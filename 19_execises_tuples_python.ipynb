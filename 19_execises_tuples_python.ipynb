{
 "cells": [
  {
   "cell_type": "code",
   "execution_count": 4,
   "id": "2028dbe8",
   "metadata": {},
   "outputs": [
    {
     "name": "stdout",
     "output_type": "stream",
     "text": [
      "Digite um número entre 0 e 20: 89\n",
      "Digite um número entre 0 e 20: 89\n",
      "Digite um número entre 0 e 20: 4\n",
      "quatro\n"
     ]
    }
   ],
   "source": [
    "# Crie um programa que tenha um tupla totalmente preenchida com uma contagem por extenso, de 0 até 20.\n",
    "# Seu programa deverá ler um número pelo teclado (entre 0 e 20) e mostrá-lo por extenso.\n",
    "\n",
    "num_ex = ('zero', 'um', 'dois', 'três', 'quatro', 'cinco', 'seis', 'sete', 'oito', 'nove', 'dez', 'onze', 'doze', 'treze', 'quatorze', 'quinze', 'dezesseis', 'dezessete', 'dezoito', 'dezenove', 'vinte')\n",
    "\n",
    "while True:\n",
    "    num_esc = int(input('Digite um número entre 0 e 20: '))\n",
    "    if num_esc >= 0 and num_esc <= 20:\n",
    "        print(num_ex[num_esc])\n",
    "        break\n",
    "    else: \n",
    "        continue"
   ]
  },
  {
   "cell_type": "code",
   "execution_count": 13,
   "id": "dbf5957b",
   "metadata": {},
   "outputs": [
    {
     "name": "stdout",
     "output_type": "stream",
     "text": [
      "Os cinco primeiros colocados são ('Palmeiras', 'Corinthians', 'Fluminense', 'Athlético-PR', 'Flamengo', 'Internacional')\n",
      "------------------------------\n",
      "Os quatro últimos colocados são ('Fortaleza', 'Cuiabá', 'Atlético-GO', 'Juventude')\n",
      "------------------------------\n",
      "['América-MG', 'Athlético-PR', 'Atlético-GO', 'Atlético-MG', 'Avaí', 'Botafogo', 'Bragantino', 'Ceará', 'Corinthians', 'Coritiba', 'Cuiabá', 'Flamengo', 'Fluminense', 'Fortaleza', 'Goias', 'Internacional', 'Juventude', 'Palmeiras', 'Santos', 'São Paulo']\n",
      "------------------------------\n",
      "O Flamengo está em 4° lugar\n"
     ]
    }
   ],
   "source": [
    "# Crie uma tupla preenchida com os 20 primeiros colocados da tabela do campeonato brasileiro de futebol,\n",
    "# na ordem de colocação. Depois mostre:\n",
    "#     Apenas os 5 primeiros colocados.\n",
    "#     Os últimos 4 colocados da tabela.\n",
    "#     Uma lista com os times em ordem\n",
    "#     alfabética.\n",
    "#     Em que posição na tabela está o time do\n",
    "#     Flamengo.\n",
    "\n",
    "times = ('Palmeiras', 'Corinthians', 'Fluminense', 'Athlético-PR', 'Flamengo', 'Internacional', 'Atlético-MG', 'Bragantino', 'Santos', 'América-MG', 'São Paulo', 'Botafogo', 'Goias', 'Ceará', 'Coritiba', 'Avaí', 'Fortaleza', 'Cuiabá', 'Atlético-GO', 'Juventude')\n",
    "\n",
    "print(f'Os cinco primeiros colocados são {times[0:6]}')\n",
    "print('-'*30)\n",
    "print(f'Os quatro últimos colocados são {times[16:]}')\n",
    "print('-'*30)\n",
    "print(sorted(times))\n",
    "print('-'*30)\n",
    "print(f'O Flamengo está em {times.index(\"Flamengo\")}° lugar')\n",
    "\n",
    "    "
   ]
  },
  {
   "cell_type": "code",
   "execution_count": 17,
   "id": "277e34c1",
   "metadata": {},
   "outputs": [
    {
     "name": "stdout",
     "output_type": "stream",
     "text": [
      "(2, 7, 8, 11, 7)\n",
      "O maior número é 11 e o menor é 2\n"
     ]
    }
   ],
   "source": [
    "# Crie um programa que vai gerar cinco números aleatórios e colocar em uma tupla.\n",
    "# Depois disso, mostre a listagem de números gerados e também indique o menor e o\n",
    "# maior valor que estão na tupla.\n",
    "import random\n",
    "\n",
    "nums = (random.randint(1,11), random.randint(1,11), random.randint(1,11), random.randint(1,11), random.randint(1,11))\n",
    "print(nums)\n",
    "\n",
    "maior = 0\n",
    "menor = 0\n",
    "cont = 1\n",
    "\n",
    "for c in nums:\n",
    "    if cont == 1:\n",
    "        maior = c\n",
    "        menor = c\n",
    "        cont += 1\n",
    "    else:\n",
    "        if c > maior:\n",
    "            maior = c\n",
    "        if c < menor:\n",
    "            menor = c\n",
    "print(f'O maior número é {maior} e o menor é {menor}')"
   ]
  },
  {
   "cell_type": "code",
   "execution_count": 23,
   "id": "ef23d01f",
   "metadata": {},
   "outputs": [
    {
     "name": "stdout",
     "output_type": "stream",
     "text": [
      "Digite um número: 4\n",
      "Digite outro número: 9\n",
      "Digite mais um número: 6\n",
      "Digite o último número: 7\n",
      "4 6 \n",
      "A quantidade de 9 é 1\n"
     ]
    }
   ],
   "source": [
    "# Desenvolva um programa que leia quatro valores pelo teclado e guarde os\n",
    "# em uma tupla. No final, mostre:\n",
    "#     Quantas vezes apareceu o valor 9;\n",
    "#     Em que posição foi digitado o primeiro valor 3;\n",
    "#     Quais foram os números pares.\n",
    "\n",
    "nums = (int(input('Digite um número: ')), \n",
    "        int(input('Digite outro número: ')), \n",
    "        int(input('Digite mais um número: ')), \n",
    "        int(input('Digite o último número: ')))\n",
    "tot9 = 0\n",
    "\n",
    "for c in nums:\n",
    "    if c == 9:\n",
    "        tot9 += 1\n",
    "        \n",
    "    if c == 3:\n",
    "        print(f'O primeiro 3 está na posição {nums.index(c) + 1}')\n",
    "    \n",
    "    if c % 2 == 0:\n",
    "        print(f'{c}', end=' ')\n",
    "print( )\n",
    "print(f'A quantidade de 9 é {tot9}')"
   ]
  },
  {
   "cell_type": "code",
   "execution_count": 3,
   "id": "49263521",
   "metadata": {},
   "outputs": [
    {
     "ename": "TypeError",
     "evalue": "not all arguments converted during string formatting",
     "output_type": "error",
     "traceback": [
      "\u001b[1;31m---------------------------------------------------------------------------\u001b[0m",
      "\u001b[1;31mTypeError\u001b[0m                                 Traceback (most recent call last)",
      "\u001b[1;32m<ipython-input-3-bb66c4826dbb>\u001b[0m in \u001b[0;36m<module>\u001b[1;34m\u001b[0m\n\u001b[0;32m      6\u001b[0m \u001b[1;33m\u001b[0m\u001b[0m\n\u001b[0;32m      7\u001b[0m \u001b[1;32mfor\u001b[0m \u001b[0mc\u001b[0m \u001b[1;32min\u001b[0m \u001b[0mprods\u001b[0m\u001b[1;33m:\u001b[0m\u001b[1;33m\u001b[0m\u001b[1;33m\u001b[0m\u001b[0m\n\u001b[1;32m----> 8\u001b[1;33m     \u001b[1;32mif\u001b[0m \u001b[0mc\u001b[0m \u001b[1;33m%\u001b[0m \u001b[1;36m2\u001b[0m \u001b[1;33m==\u001b[0m \u001b[1;36m0\u001b[0m\u001b[1;33m:\u001b[0m\u001b[1;33m\u001b[0m\u001b[1;33m\u001b[0m\u001b[0m\n\u001b[0m\u001b[0;32m      9\u001b[0m         \u001b[0mc\u001b[0m \u001b[1;33m=\u001b[0m \u001b[0mfloat\u001b[0m\u001b[1;33m(\u001b[0m\u001b[0mprods\u001b[0m\u001b[1;33m[\u001b[0m\u001b[0mc\u001b[0m\u001b[1;33m]\u001b[0m\u001b[1;33m)\u001b[0m\u001b[1;33m\u001b[0m\u001b[1;33m\u001b[0m\u001b[0m\n\u001b[0;32m     10\u001b[0m     \u001b[0mprint\u001b[0m\u001b[1;33m(\u001b[0m\u001b[0mc\u001b[0m\u001b[1;33m)\u001b[0m\u001b[1;33m\u001b[0m\u001b[1;33m\u001b[0m\u001b[0m\n",
      "\u001b[1;31mTypeError\u001b[0m: not all arguments converted during string formatting"
     ]
    }
   ],
   "source": [
    "# Crie um programa que tenha uma tupla única com nomes de produtos\n",
    "# e seus respectivos preços na sequência. No final, mostre uma listagem\n",
    "# de preços organizando os dados em forma tabular.\n",
    "\n",
    "prods = ('TV', 2000, 'Celular', 2500, 'Cama', 1200, 'Garrafa', 218.20)\n",
    "\n",
    "for c in prods:\n",
    "   \n",
    "    print(c)\n",
    "    \n",
    "\n"
   ]
  },
  {
   "cell_type": "code",
   "execution_count": null,
   "id": "9466b431",
   "metadata": {},
   "outputs": [],
   "source": [
    "# Crie um programa que tenha uma tupla com várias palavras (não usar acentos).\n",
    "# Depois disso, você deve mostrar, para cada palavra, quais são as suas vogais.\n",
    "\n"
   ]
  }
 ],
 "metadata": {
  "kernelspec": {
   "display_name": "Python 3",
   "language": "python",
   "name": "python3"
  },
  "language_info": {
   "codemirror_mode": {
    "name": "ipython",
    "version": 3
   },
   "file_extension": ".py",
   "mimetype": "text/x-python",
   "name": "python",
   "nbconvert_exporter": "python",
   "pygments_lexer": "ipython3",
   "version": "3.8.8"
  }
 },
 "nbformat": 4,
 "nbformat_minor": 5
}
