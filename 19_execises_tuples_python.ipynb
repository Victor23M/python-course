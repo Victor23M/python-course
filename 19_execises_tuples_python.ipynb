{
 "cells": [
  {
   "cell_type": "code",
   "execution_count": 4,
   "id": "2028dbe8",
   "metadata": {},
   "outputs": [
    {
     "name": "stdout",
     "output_type": "stream",
     "text": [
      "Digite um número entre 0 e 20: 89\n",
      "Digite um número entre 0 e 20: 89\n",
      "Digite um número entre 0 e 20: 4\n",
      "quatro\n"
     ]
    }
   ],
   "source": [
    "# Crie um programa que tenha um tupla totalmente preenchida com uma contagem por extenso, de 0 até 20.\n",
    "# Seu programa deverá ler um número pelo teclado (entre 0 e 20) e mostrá-lo por extenso.\n",
    "\n",
    "num_ex = ('zero', 'um', 'dois', 'três', 'quatro', 'cinco', 'seis', 'sete', 'oito', 'nove', 'dez', 'onze', 'doze', 'treze', 'quatorze', 'quinze', 'dezesseis', 'dezessete', 'dezoito', 'dezenove', 'vinte')\n",
    "\n",
    "while True:\n",
    "    num_esc = int(input('Digite um número entre 0 e 20: '))\n",
    "    if num_esc >= 0 and num_esc <= 20:\n",
    "        print(num_ex[num_esc])\n",
    "        break\n",
    "    else: \n",
    "        continue"
   ]
  },
  {
   "cell_type": "code",
   "execution_count": 13,
   "id": "dbf5957b",
   "metadata": {},
   "outputs": [
    {
     "name": "stdout",
     "output_type": "stream",
     "text": [
      "Os cinco primeiros colocados são ('Palmeiras', 'Corinthians', 'Fluminense', 'Athlético-PR', 'Flamengo', 'Internacional')\n",
      "------------------------------\n",
      "Os quatro últimos colocados são ('Fortaleza', 'Cuiabá', 'Atlético-GO', 'Juventude')\n",
      "------------------------------\n",
      "['América-MG', 'Athlético-PR', 'Atlético-GO', 'Atlético-MG', 'Avaí', 'Botafogo', 'Bragantino', 'Ceará', 'Corinthians', 'Coritiba', 'Cuiabá', 'Flamengo', 'Fluminense', 'Fortaleza', 'Goias', 'Internacional', 'Juventude', 'Palmeiras', 'Santos', 'São Paulo']\n",
      "------------------------------\n",
      "O Flamengo está em 4° lugar\n"
     ]
    }
   ],
   "source": [
    "# Crie uma tupla preenchida com os 20 primeiros colocados da tabela do campeonato brasileiro de futebol,\n",
    "# na ordem de colocação. Depois mostre:\n",
    "#     Apenas os 5 primeiros colocados.\n",
    "#     Os últimos 4 colocados da tabela.\n",
    "#     Uma lista com os times em ordem\n",
    "#     alfabética.\n",
    "#     Em que posição na tabela está o time do\n",
    "#     Flamengo.\n",
    "\n",
    "times = ('Palmeiras', 'Corinthians', 'Fluminense', 'Athlético-PR', 'Flamengo', 'Internacional', 'Atlético-MG', 'Bragantino', 'Santos', 'América-MG', 'São Paulo', 'Botafogo', 'Goias', 'Ceará', 'Coritiba', 'Avaí', 'Fortaleza', 'Cuiabá', 'Atlético-GO', 'Juventude')\n",
    "\n",
    "print(f'Os cinco primeiros colocados são {times[0:6]}')\n",
    "print('-'*30)\n",
    "print(f'Os quatro últimos colocados são {times[16:]}')\n",
    "print('-'*30)\n",
    "print(sorted(times))\n",
    "print('-'*30)\n",
    "print(f'O Flamengo está em {times.index(\"Flamengo\")}° lugar')\n",
    "\n",
    "    "
   ]
  },
  {
   "cell_type": "code",
   "execution_count": 17,
   "id": "277e34c1",
   "metadata": {},
   "outputs": [
    {
     "name": "stdout",
     "output_type": "stream",
     "text": [
      "(2, 7, 8, 11, 7)\n",
      "O maior número é 11 e o menor é 2\n"
     ]
    }
   ],
   "source": [
    "# Crie um programa que vai gerar cinco números aleatórios e colocar em uma tupla.\n",
    "# Depois disso, mostre a listagem de números gerados e também indique o menor e o\n",
    "# maior valor que estão na tupla.\n",
    "import random\n",
    "\n",
    "nums = (random.randint(1,11), random.randint(1,11), random.randint(1,11), random.randint(1,11), random.randint(1,11))\n",
    "print(nums)\n",
    "\n",
    "maior = 0\n",
    "menor = 0\n",
    "cont = 1\n",
    "\n",
    "for c in nums:\n",
    "    if cont == 1:\n",
    "        maior = c\n",
    "        menor = c\n",
    "        cont += 1\n",
    "    else:\n",
    "        if c > maior:\n",
    "            maior = c\n",
    "        if c < menor:\n",
    "            menor = c\n",
    "print(f'O maior número é {maior} e o menor é {menor}')"
   ]
  },
  {
   "cell_type": "code",
   "execution_count": 3,
   "id": "ef23d01f",
   "metadata": {},
   "outputs": [
    {
     "name": "stdout",
     "output_type": "stream",
     "text": [
      "Digite um número: 1\n",
      "Digite outro número: 2\n",
      "Digite mais um número: 7\n",
      "Digite o último número: 6\n",
      "Você digitou os valores (1, 2, 7, 6)\n",
      "O valor 9 apareceu 0 vezes\n",
      "O valor 3 não foi digitado em nenhuma posição\n",
      "Os valores pares foram digitados foram 2 6 "
     ]
    }
   ],
   "source": [
    "# Desenvolva um programa que leia quatro valores pelo teclado e guarde os\n",
    "# em uma tupla. No final, mostre:\n",
    "#     Quantas vezes apareceu o valor 9;\n",
    "#     Em que posição foi digitado o primeiro valor 3;\n",
    "#     Quais foram os números pares.\n",
    "\n",
    "nums = (int(input('Digite um número: ')), \n",
    "        int(input('Digite outro número: ')), \n",
    "        int(input('Digite mais um número: ')), \n",
    "        int(input('Digite o último número: ')))\n",
    "\n",
    "print(f'Você digitou os valores {nums}')\n",
    "print(f'O valor 9 apareceu {nums.count(9)} vezes')\n",
    "if 3 in nums:\n",
    "    print(f'O valor 3 apareceu na {nums.index(3)+1}° posição')\n",
    "else:\n",
    "    print(f'O valor 3 não foi digitado em nenhuma posição')\n",
    "print('Os valores pares foram digitados foram', end=' ')\n",
    "for n in nums:\n",
    "    if n % 2 == 0:\n",
    "        print(n, end=' ')"
   ]
  },
  {
   "cell_type": "code",
   "execution_count": 5,
   "id": "49263521",
   "metadata": {},
   "outputs": [
    {
     "name": "stdout",
     "output_type": "stream",
     "text": [
      "TV............................R$2000.00\n",
      "Celular.......................R$2500.00\n",
      "Cama..........................R$1200.00\n",
      "Garrafa.......................R$ 218.20\n"
     ]
    }
   ],
   "source": [
    "# Crie um programa que tenha uma tupla única com nomes de produtos\n",
    "# e seus respectivos preços na sequência. No final, mostre uma listagem\n",
    "# de preços organizando os dados em forma tabular.\n",
    "\n",
    "prods = ('TV', 2000, 'Celular', 2500, 'Cama', 1200, 'Garrafa', 218.20)\n",
    "\n",
    "for pos in range(0,len(prods)):\n",
    "    if pos % 2 == 0:\n",
    "        print(f'{prods[pos]:.<30}', end='')\n",
    "    else:\n",
    "        print(f'R${prods[pos]:>7.2f}')\n",
    "\n",
    "    \n",
    "\n"
   ]
  },
  {
   "cell_type": "code",
   "execution_count": 9,
   "id": "9466b431",
   "metadata": {
    "scrolled": true
   },
   "outputs": [
    {
     "name": "stdout",
     "output_type": "stream",
     "text": [
      "\n",
      " Na palavra APRENDER temos a e e \n",
      " Na palavra PROGRAMAR temos o a a \n",
      " Na palavra LINGUAGEM temos i u a e \n",
      " Na palavra CURSO temos u o \n",
      " Na palavra PYTHON temos o \n",
      " Na palavra GRATIS temos a i \n",
      " Na palavra ESTUDAR temos e u a \n",
      " Na palavra TRABALHAR temos a a a \n",
      " Na palavra MERCADO temos e a o \n",
      " Na palavra PROGRAMADOR temos o a a o "
     ]
    }
   ],
   "source": [
    "# Crie um programa que tenha uma tupla com várias palavras (não usar acentos).\n",
    "# Depois disso, você deve mostrar, para cada palavra, quais são as suas vogais.\n",
    "\n",
    "palavras = ('aprender', 'programar', 'linguagem',\n",
    "           'curso', 'python', 'gratis', 'estudar',\n",
    "           'trabalhar', 'mercado', 'programador')\n",
    "\n",
    "for p in palavras:\n",
    "    print(f'\\n Na palavra {p.upper()} temos', end=' ')\n",
    "    for letra in p:\n",
    "        if letra.lower() in 'aeiou':\n",
    "            print(letra, end=' ')\n"
   ]
  },
  {
   "cell_type": "code",
   "execution_count": null,
   "id": "f635cb6c",
   "metadata": {},
   "outputs": [],
   "source": []
  }
 ],
 "metadata": {
  "kernelspec": {
   "display_name": "Python 3",
   "language": "python",
   "name": "python3"
  },
  "language_info": {
   "codemirror_mode": {
    "name": "ipython",
    "version": 3
   },
   "file_extension": ".py",
   "mimetype": "text/x-python",
   "name": "python",
   "nbconvert_exporter": "python",
   "pygments_lexer": "ipython3",
   "version": "3.8.8"
  }
 },
 "nbformat": 4,
 "nbformat_minor": 5
}
