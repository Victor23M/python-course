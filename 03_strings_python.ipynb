{
 "cells": [
  {
   "cell_type": "code",
   "execution_count": 1,
   "id": "4a1a08b5",
   "metadata": {},
   "outputs": [
    {
     "name": "stdout",
     "output_type": "stream",
     "text": [
      "Alguma coisa\n",
      "Aspas duplas\n",
      "12345\n",
      "Texto qualquer \"aspas duplas\" \n",
      "Texto qualquer 'aspas simples' \n",
      "Aqui há uma \n",
      " quebra de linha\n",
      "Aqui se anula o comando que vem dentro \\n, o revelando também\n"
     ]
    }
   ],
   "source": [
    "# str = string\n",
    "\n",
    "print ('Alguma coisa')\n",
    "print (\"Aspas duplas\")\n",
    "\n",
    "# Python é uma linguagem de tipagem dinâmica. Logo:\n",
    "# print (12345) aqui seria visto como number\n",
    "print ('12345')  # Aqui já é visto como string\n",
    "\n",
    "# Cuidado para não criar conflitos!\n",
    "\n",
    "# print('Texto qualquer 'aspas simples'') Isso causaria um conflito na linguagem!\n",
    "print ('Texto qualquer \"aspas duplas\" ')  # Esse é o correto\n",
    "print (\"Texto qualquer 'aspas simples' \")  # Esse também está correto\n",
    "\n",
    "# Alguns comandos como \\n e r\n",
    "\n",
    "print ('Aqui há uma \\n quebra de linha')\n",
    "print (r'Aqui se anula o comando que vem dentro \\n, o revelando também')"
   ]
  },
  {
   "cell_type": "code",
   "execution_count": null,
   "id": "1b6ac9a4",
   "metadata": {},
   "outputs": [],
   "source": []
  }
 ],
 "metadata": {
  "kernelspec": {
   "display_name": "Python 3",
   "language": "python",
   "name": "python3"
  },
  "language_info": {
   "codemirror_mode": {
    "name": "ipython",
    "version": 3
   },
   "file_extension": ".py",
   "mimetype": "text/x-python",
   "name": "python",
   "nbconvert_exporter": "python",
   "pygments_lexer": "ipython3",
   "version": "3.8.8"
  }
 },
 "nbformat": 4,
 "nbformat_minor": 5
}
