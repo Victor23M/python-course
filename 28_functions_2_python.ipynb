{
 "cells": [
  {
   "cell_type": "code",
   "execution_count": 1,
   "metadata": {},
   "outputs": [
    {
     "name": "stdout",
     "output_type": "stream",
     "text": [
      "A soma é 4\n"
     ]
    }
   ],
   "source": [
    "# Parâmetros opcionais são, basicamente, parâmetros construídos dentro de funções, os quais vêm com valores\n",
    "# pré-determinados, de forma que, caso não seja atribuído nenhum valor a uma variável, ela assuma o valor padrão.\n",
    "\n",
    "def soma(a, b, c=0):\n",
    "    s = a + b + c\n",
    "    print(f'A soma é {s}')\n",
    "\n",
    "soma(2,2)\n",
    "# A variável c não recebeu nenhum valor para ser atribuído, logo ela assumiu o valor padrão que foi definido\n",
    "# na função. "
   ]
  },
  {
   "cell_type": "code",
   "execution_count": 4,
   "metadata": {},
   "outputs": [
    {
     "name": "stdout",
     "output_type": "stream",
     "text": [
      "A de dentro vale 8\n",
      "B de dentro vale 9\n",
      "C de dentro vale 2\n",
      "A de fora vale 5\n",
      "------------------------------\n",
      "A de dentro vale 8\n",
      "B de dentro vale 9\n",
      "C de dentro vale 2\n",
      "A de fora vale 8\n"
     ]
    }
   ],
   "source": [
    "# Escopo de variáveis é, basicamente, o local/maneira como a variável foi construída. Existem dois tipos de escopo:\n",
    "# Global e Local. Quando uma variável é construída no escopo Global, ou seja no programa principal, ela pode ser\n",
    "# acessada em qualquer momento do código. Entretanto, se uma variável foi definida em um escopo local, ou seja dentro\n",
    "# de uma função, ela só pode ser acessada dentro da função, pois é o escopo dela.\n",
    "\n",
    "def teste(b):\n",
    "    a = 8\n",
    "    b += 4\n",
    "    c = 2\n",
    "    print(f'A de dentro vale {a}')\n",
    "    print(f'B de dentro vale {b}')\n",
    "    print(f'C de dentro vale {c}')\n",
    "\n",
    "a = 5\n",
    "teste(a)\n",
    "print(f'A de fora vale {a}')\n",
    "print('-'*30)\n",
    "# A variável a definida dentro da função não é a mesma que foi definida fora da função, pois os escopos são diferentes.\n",
    "# Não adiataria tentarmos printar b ou c, pois o código daria erro, haja vista que o escopo das variáveis é local.\n",
    "# Ademais, há um jeito de acessar e tratar uma variável como global dentro de um escopo local:\n",
    "\n",
    "def teste(d):\n",
    "    global e \n",
    "    e = 8\n",
    "    d += 4\n",
    "    f = 2\n",
    "    print(f'A de dentro vale {e}')\n",
    "    print(f'B de dentro vale {d}')\n",
    "    print(f'C de dentro vale {f}')\n",
    "\n",
    "e = 5\n",
    "teste(e)\n",
    "print(f'A de fora vale {e}')\n",
    "\n",
    "# Como a variável foi declarada como global, o valor na memória foi alterado tanto para o e dentro da função, quando para\n",
    "# o fora da função."
   ]
  },
  {
   "cell_type": "code",
   "execution_count": 5,
   "metadata": {},
   "outputs": [
    {
     "name": "stdout",
     "output_type": "stream",
     "text": [
      "Os resultados foram 6, 8 e 5\n"
     ]
    }
   ],
   "source": [
    "# Retorno de variáveis permite que uma função possa ser manipulada de forma mais eficiente, haja vista que,\n",
    "# todas as funções escritas anteriormente só fazem um print do que foi calculado, mas não armazenam nenhum valor.\n",
    "# Dito isto, se a função tiver um retorno, até um simples print pode ser manipulado.\n",
    "\n",
    "def somar(a=0, b=0, c=0):\n",
    "    s = a + b + c\n",
    "    return s\n",
    "\n",
    "r1 = somar(3, 2, 1)\n",
    "r2 = somar(4, 4)\n",
    "r3 = somar(5)\n",
    "\n",
    "print(f'Os resultados foram {r1}, {r2} e {r3}')"
   ]
  },
  {
   "cell_type": "code",
   "execution_count": 6,
   "metadata": {},
   "outputs": [
    {
     "name": "stdout",
     "output_type": "stream",
     "text": [
      "Os resultados são 120, 6 e 1\n"
     ]
    }
   ],
   "source": [
    "# Prática da aula\n",
    "\n",
    "def fatorial(num=1):\n",
    "    f = 1\n",
    "    for c in range(num, 0, -1):\n",
    "        f *= c\n",
    "    return f\n",
    "\n",
    "\n",
    "f1 = fatorial(5)\n",
    "f2 = fatorial(3)\n",
    "f3 = fatorial()\n",
    "print(f'Os resultados são {f1}, {f2} e {f3}')"
   ]
  },
  {
   "cell_type": "code",
   "execution_count": null,
   "metadata": {},
   "outputs": [],
   "source": []
  }
 ],
 "metadata": {
  "kernelspec": {
   "display_name": "Python 3.10.2 64-bit",
   "language": "python",
   "name": "python3"
  },
  "language_info": {
   "codemirror_mode": {
    "name": "ipython",
    "version": 3
   },
   "file_extension": ".py",
   "mimetype": "text/x-python",
   "name": "python",
   "nbconvert_exporter": "python",
   "pygments_lexer": "ipython3",
   "version": "3.10.2"
  },
  "orig_nbformat": 4,
  "vscode": {
   "interpreter": {
    "hash": "369f2c481f4da34e4445cda3fffd2e751bd1c4d706f27375911949ba6bb62e1c"
   }
  }
 },
 "nbformat": 4,
 "nbformat_minor": 2
}
