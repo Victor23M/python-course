{
 "cells": [
  {
   "cell_type": "code",
   "execution_count": 1,
   "id": "af31fed8",
   "metadata": {},
   "outputs": [
    {
     "name": "stdout",
     "output_type": "stream",
     "text": [
      "(0,0)\n",
      "(0,1)\n",
      "(0,2)\n",
      "(0,3)\n",
      "(0,4)\n",
      "(1,0)\n",
      "(1,1)\n",
      "(1,2)\n",
      "(1,3)\n",
      "(1,4)\n",
      "(2,0)\n",
      "(2,1)\n",
      "(2,2)\n",
      "(2,3)\n",
      "(2,4)\n",
      "(3,0)\n",
      "(3,1)\n",
      "(3,2)\n",
      "(3,3)\n",
      "(3,4)\n",
      "(4,0)\n",
      "(4,1)\n",
      "(4,2)\n",
      "(4,3)\n",
      "(4,4)\n",
      "(5,0)\n",
      "(5,1)\n",
      "(5,2)\n",
      "(5,3)\n",
      "(5,4)\n",
      "(6,0)\n",
      "(6,1)\n",
      "(6,2)\n",
      "(6,3)\n",
      "(6,4)\n",
      "(7,0)\n",
      "(7,1)\n",
      "(7,2)\n",
      "(7,3)\n",
      "(7,4)\n",
      "(8,0)\n",
      "(8,1)\n",
      "(8,2)\n",
      "(8,3)\n",
      "(8,4)\n",
      "(9,0)\n",
      "(9,1)\n",
      "(9,2)\n",
      "(9,3)\n",
      "(9,4)\n",
      "Finish!\n"
     ]
    }
   ],
   "source": [
    "# while em Python\n",
    "# utilizando para realizar ações\n",
    "# enquanto uma condição for verdadeira\n",
    "\n",
    "x = 0\n",
    "while x < 10:\n",
    "    y = 0\n",
    "    \n",
    "    while y < 5:\n",
    "        print(f'({x},{y})')\n",
    "        y += 1 # é a mesma coisa que y = y + 1\n",
    "        \n",
    "    x += 1\n",
    "\n",
    "print('Finish!')"
   ]
  },
  {
   "cell_type": "code",
   "execution_count": null,
   "id": "7df1d9d9",
   "metadata": {},
   "outputs": [
    {
     "name": "stdout",
     "output_type": "stream",
     "text": [
      "\n"
     ]
    }
   ],
   "source": [
    "while True:\n",
    "    print()\n",
    "    num_1 = input('Digite um número: ')\n",
    "    num_2 = input('Digite um número: ')\n",
    "    operador = input('Digite um operador: ')\n",
    "    \n",
    "    if not num_1.isnumeric() or not num_2.isnumeric():\n",
    "        print('Você precisa digitar um número!')\n",
    "        continue\n",
    "    \n",
    "    num_1 = int(num_1)\n",
    "    num_2 = int(num_2)\n",
    "    \n",
    "    if operador == '+':\n",
    "        print(num_1 + num_2)\n",
    "    elif operador == '-':\n",
    "        print(num_1 - num_2)\n",
    "    elif operador == '*':\n",
    "        print(num_1 * num_2)\n",
    "    elif operador == '/':\n",
    "        print(num_1 / num_2)\n",
    "    else:\n",
    "        print('Digite um operador válido!')\n",
    "        \n"
   ]
  },
  {
   "cell_type": "code",
   "execution_count": null,
   "id": "4dbc3589",
   "metadata": {},
   "outputs": [],
   "source": []
  }
 ],
 "metadata": {
  "kernelspec": {
   "display_name": "Python 3",
   "language": "python",
   "name": "python3"
  },
  "language_info": {
   "codemirror_mode": {
    "name": "ipython",
    "version": 3
   },
   "file_extension": ".py",
   "mimetype": "text/x-python",
   "name": "python",
   "nbconvert_exporter": "python",
   "pygments_lexer": "ipython3",
   "version": "3.8.8"
  }
 },
 "nbformat": 4,
 "nbformat_minor": 5
}
