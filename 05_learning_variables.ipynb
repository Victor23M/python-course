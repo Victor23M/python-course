{
 "cells": [
  {
   "cell_type": "code",
   "execution_count": 2,
   "id": "d2aee7a8",
   "metadata": {},
   "outputs": [
    {
     "name": "stdout",
     "output_type": "stream",
     "text": [
      "Joao Victor tem 23 de idade e seu IMC é 27.16644791062544\n"
     ]
    }
   ],
   "source": [
    "# Precisa iniciar com letra, deve ser minúscula, pode conter números, separar com _ !!!\n",
    "\n",
    "nome = \"Joao Victor\"\n",
    "idade = 23\n",
    "altura = 1.81\n",
    "e_maior = idade > 18\n",
    "peso = 89\n",
    "imc = (peso/altura**2)\n",
    "\n",
    "print (nome, 'tem', idade, 'de idade e seu IMC é', imc)"
   ]
  },
  {
   "cell_type": "code",
   "execution_count": null,
   "id": "13a631af",
   "metadata": {},
   "outputs": [],
   "source": []
  }
 ],
 "metadata": {
  "kernelspec": {
   "display_name": "Python 3",
   "language": "python",
   "name": "python3"
  },
  "language_info": {
   "codemirror_mode": {
    "name": "ipython",
    "version": 3
   },
   "file_extension": ".py",
   "mimetype": "text/x-python",
   "name": "python",
   "nbconvert_exporter": "python",
   "pygments_lexer": "ipython3",
   "version": "3.8.8"
  }
 },
 "nbformat": 4,
 "nbformat_minor": 5
}
