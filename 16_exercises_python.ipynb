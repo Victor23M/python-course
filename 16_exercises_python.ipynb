{
 "cells": [
  {
   "cell_type": "code",
   "execution_count": 5,
   "id": "d2d9643a",
   "metadata": {},
   "outputs": [
    {
     "name": "stdout",
     "output_type": "stream",
     "text": [
      "Digite seu sexo [M/F]: j\n",
      "Digite o sexo corretamente\n",
      "Digite seu sexo [M/F]: k\n",
      "Digite o sexo corretamente\n",
      "Digite seu sexo [M/F]: l\n",
      "Digite o sexo corretamente\n",
      "Digite seu sexo [M/F]: o\n",
      "Digite o sexo corretamente\n",
      "Digite seu sexo [M/F]: m\n",
      "Você é homem\n"
     ]
    }
   ],
   "source": [
    "# Faça um programa que leia o sexo de uma pessoa, mas só aceite os\n",
    "# valores 'M' e 'F'. Caso esteja errado, peça a digitação novamente\n",
    "# até ter um valor correto.\n",
    "\n",
    "c = 0\n",
    "while c != 'N':\n",
    "    sexo = input('Digite seu sexo [M/F]: ').upper()\n",
    "    if sexo == 'M':\n",
    "        print('Você é homem')\n",
    "        c = 'N'\n",
    "    elif sexo == 'F':\n",
    "        print('Você é mulher')\n",
    "        c = 'N'\n",
    "    else:\n",
    "        print('Digite o sexo corretamente')\n",
    "        c = 'S'\n"
   ]
  },
  {
   "cell_type": "code",
   "execution_count": 9,
   "id": "aa69e595",
   "metadata": {},
   "outputs": [
    {
     "name": "stdout",
     "output_type": "stream",
     "text": [
      "Digite um número: 4\n",
      "Digite um número: 5\n",
      "Digite um número: 6\n",
      "Parabéns, você acertou depois de 3 tentativas\n"
     ]
    }
   ],
   "source": [
    "# Faça o computador gerar um número aleatório entre 0 e 10\n",
    "# e tente fazer com que o usuário chute o número até acertar,\n",
    "# de forma a mostrar no final quantos palpites foram necessários\n",
    "# para vencer.\n",
    "\n",
    "import random\n",
    "\n",
    "x = random.randint(0,11)\n",
    "num = 11\n",
    "tot_tent = 0\n",
    "while num != x:\n",
    "    num = int(input('Digite um número: '))\n",
    "    tot_tent += 1\n",
    "\n",
    "print(f'Parabéns, você acertou depois de {tot_tent} tentativas')\n"
   ]
  },
  {
   "cell_type": "code",
   "execution_count": 2,
   "id": "dcef399f",
   "metadata": {},
   "outputs": [
    {
     "name": "stdout",
     "output_type": "stream",
     "text": [
      "Digite o primeiro número: 9\n",
      "Digite o segundo número: 5\n",
      "------Nova Operação------\n",
      "[1] Somar\n",
      "[2] Subtrair\n",
      "[3] Maior\n",
      "[4] Novos Números\n",
      "[5] Sair do Programa\n",
      "Digite a operação desejada: 5\n",
      "Você encerrou o programa!\n"
     ]
    }
   ],
   "source": [
    "# Crie um programa que leia dois valores e mostre\n",
    "# em um menu na tela:\n",
    "#     [1] somar\n",
    "#     [2] subtrair\n",
    "#     [3] maior\n",
    "#     [4] novos números\n",
    "#     [5] sair do programa\n",
    "    \n",
    "# O programa deverá realizar a operação solicitada em cada caso.\n",
    "\n",
    "num1 = float(input('Digite o primeiro número: '))\n",
    "num2 = float(input('Digite o segundo número: '))\n",
    "c = 0\n",
    "\n",
    "while c != 5:\n",
    "    print('------Nova Operação------')\n",
    "    print('[1] Somar')\n",
    "    print('[2] Subtrair')\n",
    "    print('[3] Maior')\n",
    "    print('[4] Novos Números')\n",
    "    print('[5] Sair do Programa')\n",
    "    c = int(input('Digite a operação desejada: '))\n",
    "    \n",
    "    if c == 1:\n",
    "        print(f'O resultado é {num1 + num2}')\n",
    "    elif c == 2:\n",
    "        print(f'O resultado é {num1 - num2}')\n",
    "    elif c == 3:\n",
    "        if num1 > num2:\n",
    "            print(f'O número {num1} é maior')\n",
    "        elif num1 == num2:\n",
    "            print(f'Os números são iguais')\n",
    "        else:\n",
    "            print(f'O número {num2} é maior')\n",
    "    elif c == 4:\n",
    "        num1 = float(input('Digite o primeiro número: '))\n",
    "        num2 = float(input('Digite o segundo número: '))\n",
    "\n",
    "print('Você encerrou o programa!')    "
   ]
  },
  {
   "cell_type": "code",
   "execution_count": 9,
   "id": "166fd0f8",
   "metadata": {},
   "outputs": [
    {
     "name": "stdout",
     "output_type": "stream",
     "text": [
      "Digite um número: 9\n",
      "O resultado é 362880\n"
     ]
    }
   ],
   "source": [
    "# Faça um programa que leia um número \n",
    "# qualquer e mostre o seu fatorial.\n",
    "\n",
    "num = int(input('Digite um número: '))\n",
    "fat = 1\n",
    "while num != 0:\n",
    "    fat = fat * num\n",
    "    num -= 1\n",
    "    \n",
    "print(f'O resultado é {fat}')\n",
    "    \n"
   ]
  },
  {
   "cell_type": "code",
   "execution_count": 15,
   "id": "c0362ae8",
   "metadata": {},
   "outputs": [
    {
     "name": "stdout",
     "output_type": "stream",
     "text": [
      "Digite o primeiro número: 1\n",
      "Digite a razao: 1\n",
      "1 2 3 4 5 6 7 8 9 10 "
     ]
    }
   ],
   "source": [
    "# Leia o primeiro termo e a razão de uma PA,\n",
    "# de forma a mostrar os 10 primeiro termos da\n",
    "# progressão usando a estrutura while.\n",
    "\n",
    "num = int(input('Digite o primeiro número: '))\n",
    "razao = int(input('Digite a razao: '))\n",
    "aux = 0\n",
    "c = 1\n",
    "while c != 11:\n",
    "    num += aux\n",
    "    print(f'{num}', end=' ')\n",
    "    num += razao\n",
    "    c += 1\n",
    "    "
   ]
  },
  {
   "cell_type": "code",
   "execution_count": 3,
   "id": "fc7e2cee",
   "metadata": {},
   "outputs": [
    {
     "name": "stdout",
     "output_type": "stream",
     "text": [
      "Primeiro termo: 5\n",
      "Digite a razao: 2\n",
      "5 - 7 - 9 - 11 - 13 - 15 - 17 - 19 - 21 - 23 - Pausa\n",
      "Quantos termos você quer mostrar a mais? 2\n",
      "25 - 27 - Pausa\n",
      "Quantos termos você quer mostrar a mais? 0\n",
      "Progressão finalizada com 12 termos mostrados\n"
     ]
    }
   ],
   "source": [
    "# Melhorar o exercício anterior, de forma a perguntar para o usuário se ele quer mostrar mais termos,\n",
    "# o programa encerra quando ele disser que quer mostrar 0 termos.\n",
    "\n",
    "primeiro = int(input('Primeiro termo: '))\n",
    "razao = int(input('Digite a razao: '))\n",
    "termo = primeiro\n",
    "cont = 1\n",
    "total = 0\n",
    "mais = 10\n",
    "\n",
    "while mais != 0:\n",
    "    total += mais\n",
    "    while cont <= total:\n",
    "        print('{} - '.format(termo), end='')\n",
    "        termo += razao\n",
    "        cont += 1\n",
    "    print('Pausa')\n",
    "    mais = int(input('Quantos termos você quer mostrar a mais? '))\n",
    "print('Progressão finalizada com {} termos mostrados'.format(total))"
   ]
  },
  {
   "cell_type": "code",
   "execution_count": 5,
   "id": "6550a3c5",
   "metadata": {},
   "outputs": [
    {
     "name": "stdout",
     "output_type": "stream",
     "text": [
      "Quantos termos você quer mostrar: 6\n",
      "0 - 1 - 1 - 2 - 3 - 5 Fim\n"
     ]
    }
   ],
   "source": [
    "# Escreva um programa que leia um número n inteiro qualquer e\n",
    "# mostre na tela os n primeiro elementos da sequência de Fibonacci.\n",
    "\n",
    "n = int(input('Quantos termos você quer mostrar: '))\n",
    "t1 = 0\n",
    "t2 = 1\n",
    "print('{} - {}'.format(t1, t2), end='')\n",
    "cont = 3\n",
    "while cont <= n:\n",
    "    t3 = t2 + t1\n",
    "    print(' - {}'.format(t3), end='')\n",
    "    t1 =t2\n",
    "    t2 =t3\n",
    "    cont += 1\n",
    "print(' Fim')"
   ]
  },
  {
   "cell_type": "code",
   "execution_count": 3,
   "id": "ffae35ea",
   "metadata": {},
   "outputs": [
    {
     "name": "stdout",
     "output_type": "stream",
     "text": [
      "Digite um número: 5\n",
      "Digite um número: 6\n",
      "Digite um número: 2\n",
      "Digite um número: 3\n",
      "Digite um número: 4\n",
      "Digite um número: 999\n",
      "A soma dos valores foi 20 e o total de valores digitados foi 5\n"
     ]
    }
   ],
   "source": [
    "# Crie um programa que leia vários números inteirospelo teclado.\n",
    "# O programasó vai parar quando o usuário digitar o valor '999',\n",
    "# que é a condição de parada. No final, mostre quantos números foram\n",
    "# digitados e qual foi a soma entre eles.\n",
    "\n",
    "n = 0\n",
    "soma = 0\n",
    "tot = 0\n",
    "\n",
    "while n != 999:\n",
    "    num = int(input('Digite um número: '))\n",
    "    if num == 999:\n",
    "        n = num\n",
    "        print(f'A soma dos valores foi {soma} e o total de valores digitados foi {tot}')\n",
    "    else:\n",
    "        soma += num\n",
    "        tot += 1"
   ]
  },
  {
   "cell_type": "code",
   "execution_count": 2,
   "id": "1fdc4dc9",
   "metadata": {},
   "outputs": [
    {
     "name": "stdout",
     "output_type": "stream",
     "text": [
      "Digite um número: 3\n",
      "Você deseja continuar?[S/N]: s\n",
      "Digite um número: 4\n",
      "Você deseja continuar?[S/N]: s\n",
      "Digite um número: 3\n",
      "Você deseja continuar?[S/N]: n\n",
      "A média dos números é 3.3333333333333335\n",
      "o maior número é 4 e o menor número é 3\n"
     ]
    }
   ],
   "source": [
    "# Crie um programa que leia vários números inteiros pelo teclado. No final\n",
    "# da execução, mostre a média entre todos os valores e qual foi o maior e \n",
    "# o menor valores lidos. O programa deve perguntar ao usuário se ele quer ou não\n",
    "# continuar valores.\n",
    "\n",
    "cont = 0\n",
    "soma = 0\n",
    "maior = 0\n",
    "menor = 0\n",
    "tot = 0\n",
    "\n",
    "while cont != 'STOP':\n",
    "    num = int(input('Digite um número: '))\n",
    "    soma += num\n",
    "    tot += 1\n",
    "    cont += 1\n",
    "    \n",
    "    op = input('Você deseja continuar?[S/N]: ').upper()\n",
    "    if op == 'S':    \n",
    "        if cont == 1:\n",
    "                maior = num\n",
    "                menor = num\n",
    "        else:\n",
    "            if num > maior:\n",
    "                maior = num\n",
    "            elif num < menor:\n",
    "                menor = num\n",
    "    elif op == 'N':\n",
    "        cont = 'STOP'\n",
    "media = soma/tot\n",
    "\n",
    "print(f'A média dos números é {media}')\n",
    "print(f'o maior número é {maior} e o menor número é {menor}')\n"
   ]
  },
  {
   "cell_type": "code",
   "execution_count": null,
   "id": "6634ee9d",
   "metadata": {},
   "outputs": [],
   "source": []
  }
 ],
 "metadata": {
  "kernelspec": {
   "display_name": "Python 3",
   "language": "python",
   "name": "python3"
  },
  "language_info": {
   "codemirror_mode": {
    "name": "ipython",
    "version": 3
   },
   "file_extension": ".py",
   "mimetype": "text/x-python",
   "name": "python",
   "nbconvert_exporter": "python",
   "pygments_lexer": "ipython3",
   "version": "3.8.8"
  }
 },
 "nbformat": 4,
 "nbformat_minor": 5
}
