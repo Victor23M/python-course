{
 "cells": [
  {
   "cell_type": "code",
   "execution_count": 1,
   "id": "bdc617a3",
   "metadata": {},
   "outputs": [
    {
     "name": "stdout",
     "output_type": "stream",
     "text": [
      "Digite seu usuário: Joao\n",
      "Joao 4 <class 'int'>\n"
     ]
    }
   ],
   "source": [
    "usuario = input('Digite seu usuário: ')\n",
    "qtd_caracteres = len(usuario)\n",
    "\n",
    "print(usuario, qtd_caracteres, type(qtd_caracteres))\n"
   ]
  },
  {
   "cell_type": "code",
   "execution_count": 2,
   "id": "f732348f",
   "metadata": {},
   "outputs": [
    {
     "name": "stdout",
     "output_type": "stream",
     "text": [
      "Digite seu usuário: Joao\n",
      "Você não pode ser cadastrado no sistema.\n"
     ]
    }
   ],
   "source": [
    "usuario = input('Digite seu usuário: ')\n",
    "qtd_caracteres = len(usuario)\n",
    "\n",
    "if qtd_caracteres < 6:\n",
    "    print('Você não pode ser cadastrado no sistema.')\n",
    "else:\n",
    "    print('Você foi cadastrado no sistema.')\n",
    "    "
   ]
  },
  {
   "cell_type": "code",
   "execution_count": 3,
   "id": "9f2fbab7",
   "metadata": {},
   "outputs": [
    {
     "name": "stdout",
     "output_type": "stream",
     "text": [
      "Digite alguma coisa: Joao\n",
      "Digite outra coisa: Joao\n",
      "A quantidade total de caracteres digitados foi 8\n"
     ]
    }
   ],
   "source": [
    "string1 = input('Digite alguma coisa: ')\n",
    "string2 = input('Digite outra coisa: ')\n",
    "\n",
    "print(f'A quantidade total de caracteres digitados foi {len(string1) + len(string2)}')"
   ]
  },
  {
   "cell_type": "code",
   "execution_count": null,
   "id": "ed04dec4",
   "metadata": {},
   "outputs": [],
   "source": []
  }
 ],
 "metadata": {
  "kernelspec": {
   "display_name": "Python 3",
   "language": "python",
   "name": "python3"
  },
  "language_info": {
   "codemirror_mode": {
    "name": "ipython",
    "version": 3
   },
   "file_extension": ".py",
   "mimetype": "text/x-python",
   "name": "python",
   "nbconvert_exporter": "python",
   "pygments_lexer": "ipython3",
   "version": "3.8.8"
  }
 },
 "nbformat": 4,
 "nbformat_minor": 5
}
