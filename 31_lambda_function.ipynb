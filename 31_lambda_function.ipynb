{
 "cells": [
  {
   "cell_type": "code",
   "execution_count": 1,
   "metadata": {},
   "outputs": [
    {
     "data": {
      "text/plain": [
       "<function __main__.<lambda>(x)>"
      ]
     },
     "execution_count": 1,
     "metadata": {},
     "output_type": "execute_result"
    }
   ],
   "source": [
    "# Uma das características mais úteis em Python (e para iniciantes, um pouco confuso) é a expressão lambda.\n",
    "# Expressões nos permitem criar funções \"anônimas\". Isto significa que podemos fazer rapidamente funções\n",
    "# ad-hoc sem a necessidade de definir uma função usando a palavra reservado def.\n",
    "\n",
    "# Objetos de função desenvolvidos executando  expressões lambda funcionam exatamente da mesma forma como\n",
    "# aqueles criados e atribuídos pela palavra reservada def. Mas, há alguma diferenças fundamentais que fazem\n",
    "# lambda útil em funções especializadas:\n",
    "    # O corpo da lambda é uma única expressão, não um bloco de instruções\n",
    "    # O corpo do lambda é semelhante a uma instrução de retorno do corpo def.\n",
    "\n",
    "# Expressões lambda realmente são úteis, quando usadas em conjunto com as funções map(), filter() e reduce()\n",
    "# Elas são usadas para criar funções simples, são chamadas de funções in-line ou anônimas.\n",
    "\n",
    "lambda x: x**2\n",
    "\n",
    "# Diferença entre def e lambda para criar funções:\n",
    "# def -> cria um objeto e atribui um nome a ele (nome da função)\n",
    "# lambda -> cria um objeto, mas o retorna como um resultado em tempo de execução."
   ]
  },
  {
   "cell_type": "code",
   "execution_count": 6,
   "metadata": {},
   "outputs": [
    {
     "data": {
      "text/plain": [
       "25"
      ]
     },
     "execution_count": 6,
     "metadata": {},
     "output_type": "execute_result"
    }
   ],
   "source": [
    "# Definindo uma função - 3 linhas de código\n",
    "def potencia(num):\n",
    "    result = num**2\n",
    "    return result\n",
    "\n",
    "potencia(5)\n",
    "\n",
    "# Definindo uma função - 2 linhas de código\n",
    "\n",
    "def potencia(num):\n",
    "    return num**2\n",
    "\n",
    "potencia(2)\n",
    "\n",
    "# Definindo uma função - 1 linha de código\n",
    "\n",
    "def potencia(num): return num**2\n",
    "\n",
    "potencia(3)\n",
    "\n",
    "# Definindo uma expressão lambda\n",
    "pot = lambda num: num**2\n",
    "\n",
    "pot(5)\n",
    "\n"
   ]
  },
  {
   "cell_type": "code",
   "execution_count": 7,
   "metadata": {},
   "outputs": [
    {
     "data": {
      "text/plain": [
       "True"
      ]
     },
     "execution_count": 7,
     "metadata": {},
     "output_type": "execute_result"
    }
   ],
   "source": [
    "# Lembre-se: operadores de comparação retornam boolean, true or false\n",
    "par = lambda x: x%2==0\n",
    "\n",
    "par(2)"
   ]
  },
  {
   "cell_type": "code",
   "execution_count": 11,
   "metadata": {},
   "outputs": [
    {
     "data": {
      "text/plain": [
       "'nohtyp'"
      ]
     },
     "execution_count": 11,
     "metadata": {},
     "output_type": "execute_result"
    }
   ],
   "source": [
    "# Iterando strings com funções lambda\n",
    "\n",
    "first = lambda s: s[0]\n",
    "\n",
    "first('python')\n",
    "\n",
    "reverso = lambda s: s[::-1]\n",
    "\n",
    "reverso('python')"
   ]
  },
  {
   "cell_type": "code",
   "execution_count": 12,
   "metadata": {},
   "outputs": [
    {
     "data": {
      "text/plain": [
       "5"
      ]
     },
     "execution_count": 12,
     "metadata": {},
     "output_type": "execute_result"
    }
   ],
   "source": [
    "# Somas com função lambda\n",
    "\n",
    "from audioop import add\n",
    "\n",
    "\n",
    "addNum = lambda x,y: x+y\n",
    "\n",
    "addNum(2, 3)"
   ]
  },
  {
   "cell_type": "code",
   "execution_count": null,
   "metadata": {},
   "outputs": [],
   "source": []
  }
 ],
 "metadata": {
  "kernelspec": {
   "display_name": "Python 3.10.2 64-bit",
   "language": "python",
   "name": "python3"
  },
  "language_info": {
   "codemirror_mode": {
    "name": "ipython",
    "version": 3
   },
   "file_extension": ".py",
   "mimetype": "text/x-python",
   "name": "python",
   "nbconvert_exporter": "python",
   "pygments_lexer": "ipython3",
   "version": "3.10.2"
  },
  "orig_nbformat": 4,
  "vscode": {
   "interpreter": {
    "hash": "369f2c481f4da34e4445cda3fffd2e751bd1c4d706f27375911949ba6bb62e1c"
   }
  }
 },
 "nbformat": 4,
 "nbformat_minor": 2
}
