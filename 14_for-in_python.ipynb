{
 "cells": [
  {
   "cell_type": "code",
   "execution_count": 1,
   "id": "0e99629b",
   "metadata": {},
   "outputs": [
    {
     "name": "stdout",
     "output_type": "stream",
     "text": [
      "P\n",
      "y\n",
      "t\n",
      "h\n",
      "o\n",
      "n\n"
     ]
    }
   ],
   "source": [
    "# For in em Python\n",
    "# Iterando strings com for\n",
    "# Função range (start=0, stop, step=1)\n",
    "\n",
    "texto = 'Python'\n",
    "\n",
    "for letra in texto:\n",
    "    print(letra)"
   ]
  },
  {
   "cell_type": "code",
   "execution_count": 2,
   "id": "789901ba",
   "metadata": {},
   "outputs": [
    {
     "name": "stdout",
     "output_type": "stream",
     "text": [
      "0\n",
      "1\n",
      "2\n",
      "3\n",
      "4\n",
      "5\n",
      "6\n",
      "7\n",
      "8\n",
      "9\n"
     ]
    }
   ],
   "source": [
    "# For in em Python\n",
    "# Iterando strings com for\n",
    "# Função range (start=0, stop, step=1)\n",
    "\n",
    "for numero in range(10): #poderia também ser range(0,10,1)\n",
    "    print(numero)"
   ]
  },
  {
   "cell_type": "code",
   "execution_count": 3,
   "id": "ea8aa9e6",
   "metadata": {},
   "outputs": [
    {
     "name": "stdout",
     "output_type": "stream",
     "text": [
      "PyTHon\n"
     ]
    }
   ],
   "source": [
    "# For in em Python\n",
    "# Iterando strings com for\n",
    "# Função range (start=0, stop, step=1)\n",
    "\n",
    "texto = 'Python'\n",
    "nova_string = ''\n",
    "\n",
    "for letra in texto:\n",
    "    if letra == 't':\n",
    "        nova_string += letra.upper()\n",
    "    elif letra == 'h':\n",
    "        nova_string += letra.upper()\n",
    "    else:\n",
    "        nova_string += letra\n",
    "print(nova_string)"
   ]
  },
  {
   "cell_type": "code",
   "execution_count": null,
   "id": "3b0977e2",
   "metadata": {},
   "outputs": [],
   "source": []
  }
 ],
 "metadata": {
  "kernelspec": {
   "display_name": "Python 3",
   "language": "python",
   "name": "python3"
  },
  "language_info": {
   "codemirror_mode": {
    "name": "ipython",
    "version": 3
   },
   "file_extension": ".py",
   "mimetype": "text/x-python",
   "name": "python",
   "nbconvert_exporter": "python",
   "pygments_lexer": "ipython3",
   "version": "3.8.8"
  }
 },
 "nbformat": 4,
 "nbformat_minor": 5
}
