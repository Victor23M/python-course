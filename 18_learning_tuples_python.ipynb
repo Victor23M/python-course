{
 "cells": [
  {
   "cell_type": "code",
   "execution_count": 2,
   "id": "bfa609f3",
   "metadata": {},
   "outputs": [
    {
     "name": "stdout",
     "output_type": "stream",
     "text": [
      "Suco\n",
      "('Suco', 'Pizza')\n",
      "('Pizza', 'Pudim')\n",
      "Vou comer Hambúrguer\n",
      "Vou comer Suco\n",
      "Vou comer Pizza\n",
      "Vou comer Pudim\n",
      "Eu vou comer Hambúrguer\n",
      "Eu vou comer Suco\n",
      "Eu vou comer Pizza\n",
      "Eu vou comer Pudim\n",
      "Vou comer Hambúrguer, na posição 0\n",
      "Vou comer Suco, na posição 1\n",
      "Vou comer Pizza, na posição 2\n",
      "Vou comer Pudim, na posição 3\n",
      "Fim\n"
     ]
    }
   ],
   "source": [
    "# Tuplas são uma forma de reservar um espaço no armazenamenta para atribuir variáveis compostas.\n",
    "# Entretanto, Tuplas são IMUTÁVEIS após o run do código!\n",
    "# Tuplas são marcadas por () .\n",
    "\n",
    "lanche = ('Hambúrguer', 'Suco', 'Pizza', 'Pudim')\n",
    "# Se acessa os elementos de uma Tupla através de um índice, o qual deve vir entre [] .\n",
    "print(lanche[1])\n",
    "print(lanche[1:3])\n",
    "print(lanche[2:])\n",
    "\n",
    "# É possível usar estrturas de repetição de duas formas quando nos referimos a Tuplas.\n",
    "# A primeira é muito mais fácil e usual quando é necessário enumerar e contar a Tupla.\n",
    "# A segunda serve para casos mais simples, em que só é necessário printar o que está nela.\n",
    "# Uma outra opção seria, na segunda estrutura colocar enumerate(lanche), resultando na \n",
    "# estrutura 3\n",
    "\n",
    "for cont in range(0, len(lanche)):\n",
    "    print(f'Vou comer {lanche[cont]}')\n",
    "\n",
    "for comida in lanche:\n",
    "    print(f'Eu vou comer {comida}')\n",
    "    \n",
    "for pos, comida in enumerate(lanche):\n",
    "    print(f'Vou comer {comida}, na posição {pos}')\n",
    "    \n",
    "print('Fim')"
   ]
  },
  {
   "cell_type": "code",
   "execution_count": 4,
   "id": "833f3ff2",
   "metadata": {},
   "outputs": [
    {
     "name": "stdout",
     "output_type": "stream",
     "text": [
      "['Hambúrguer', 'Pizza', 'Pudim', 'Suco']\n",
      "('Hambúrguer', 'Suco', 'Pizza', 'Pudim')\n"
     ]
    }
   ],
   "source": [
    "# Caso você deseje ordenar uma Tupla, um dos métos que podem ser utilizados é o sorted\n",
    "# Veja que a estrutura não foi alterada, somente foi printada de forma ordenada.\n",
    "\n",
    "lanche = ('Hambúrguer', 'Suco', 'Pizza', 'Pudim')\n",
    "print(sorted(lanche))\n",
    "print(lanche)\n",
    "\n"
   ]
  },
  {
   "cell_type": "code",
   "execution_count": 7,
   "id": "7228a828",
   "metadata": {},
   "outputs": [
    {
     "name": "stdout",
     "output_type": "stream",
     "text": [
      "(1, 2, 3, 4)\n",
      "(3, 4, 5, 6)\n",
      "(1, 2, 3, 4, 3, 4, 5, 6)\n",
      "(3, 4, 5, 6, 1, 2, 3, 4)\n",
      "2\n",
      "3\n"
     ]
    }
   ],
   "source": [
    "# A soma de duas Tuplas não é exatamente uma soma, ela mais se assemelha a uma concatenação,\n",
    "# uma espécie de união na qual os termos dos conjuntos são repetidos.\n",
    "# Veja também que a ordem importa, o conjunto que vir primeiro na soma, terá seus valores mais a frente.\n",
    "\n",
    "a = (1, 2, 3, 4)\n",
    "b = (3, 4, 5, 6)\n",
    "c = a + b\n",
    "d = b + a\n",
    "print(a)\n",
    "print(b)\n",
    "print(c)\n",
    "print(d)\n",
    "\n",
    "# Também é possível contar os elementos através do método count\n",
    "\n",
    "print(c.count(4))\n",
    "\n",
    "# Além disso, é possível mostrar o index de todos eles com o método index\n",
    "\n",
    "print(c.index(4))\n",
    "\n"
   ]
  },
  {
   "cell_type": "code",
   "execution_count": 9,
   "id": "0fc3833b",
   "metadata": {},
   "outputs": [
    {
     "name": "stdout",
     "output_type": "stream",
     "text": [
      "('Matheus', 23, 'M', 1.81)\n"
     ]
    },
    {
     "ename": "NameError",
     "evalue": "name 'pessoa' is not defined",
     "output_type": "error",
     "traceback": [
      "\u001b[1;31m---------------------------------------------------------------------------\u001b[0m",
      "\u001b[1;31mNameError\u001b[0m                                 Traceback (most recent call last)",
      "\u001b[1;32m<ipython-input-9-56b926e0070e>\u001b[0m in \u001b[0;36m<module>\u001b[1;34m\u001b[0m\n\u001b[0;32m     10\u001b[0m \u001b[0mpessoa\u001b[0m \u001b[1;33m=\u001b[0m \u001b[1;33m(\u001b[0m\u001b[1;34m'Matheus'\u001b[0m\u001b[1;33m,\u001b[0m \u001b[1;36m23\u001b[0m\u001b[1;33m,\u001b[0m \u001b[1;34m'M'\u001b[0m\u001b[1;33m,\u001b[0m \u001b[1;36m1.81\u001b[0m\u001b[1;33m)\u001b[0m\u001b[1;33m\u001b[0m\u001b[1;33m\u001b[0m\u001b[0m\n\u001b[0;32m     11\u001b[0m \u001b[1;32mdel\u001b[0m\u001b[1;33m(\u001b[0m\u001b[0mpessoa\u001b[0m\u001b[1;33m)\u001b[0m\u001b[1;33m\u001b[0m\u001b[1;33m\u001b[0m\u001b[0m\n\u001b[1;32m---> 12\u001b[1;33m \u001b[0mprint\u001b[0m\u001b[1;33m(\u001b[0m\u001b[0mpessoa\u001b[0m\u001b[1;33m)\u001b[0m\u001b[1;33m\u001b[0m\u001b[1;33m\u001b[0m\u001b[0m\n\u001b[0m",
      "\u001b[1;31mNameError\u001b[0m: name 'pessoa' is not defined"
     ]
    }
   ],
   "source": [
    "# Em linguagens com uma tipagem forte, talvez não seja possível colocar elementos \n",
    "# de classes diferentes dentro de uma Tupla/vetor, mas em Python não é problema.\n",
    "\n",
    "pessoa = ('Matheus', 23, 'M', 1.81)\n",
    "print(pessoa)\n",
    "\n",
    "# Por fim, é possível deletar uma Tupla, sendo a única forma de \"Manipulação da mesma\"\n",
    "# Isso pode ser feito através da função del\n",
    "\n",
    "pessoa = ('Matheus', 23, 'M', 1.81)\n",
    "del(pessoa)\n",
    "print(pessoa)"
   ]
  },
  {
   "cell_type": "code",
   "execution_count": null,
   "id": "6dcca2d3",
   "metadata": {},
   "outputs": [],
   "source": []
  }
 ],
 "metadata": {
  "kernelspec": {
   "display_name": "Python 3",
   "language": "python",
   "name": "python3"
  },
  "language_info": {
   "codemirror_mode": {
    "name": "ipython",
    "version": 3
   },
   "file_extension": ".py",
   "mimetype": "text/x-python",
   "name": "python",
   "nbconvert_exporter": "python",
   "pygments_lexer": "ipython3",
   "version": "3.8.8"
  }
 },
 "nbformat": 4,
 "nbformat_minor": 5
}
