{
 "cells": [
  {
   "cell_type": "code",
   "execution_count": 2,
   "id": "c8d0ed04",
   "metadata": {},
   "outputs": [
    {
     "name": "stdout",
     "output_type": "stream",
     "text": [
      "o 0\n",
      "  1\n",
      "r 2\n",
      "a 3\n",
      "t 4\n",
      "o 5\n",
      "  6\n",
      "r 7\n",
      "o 8\n",
      "e 9\n",
      "u 10\n",
      "  11\n",
      "a 12\n",
      "  13\n",
      "r 14\n",
      "o 15\n",
      "u 16\n",
      "p 17\n",
      "a 18\n",
      "  19\n",
      "d 20\n",
      "o 21\n",
      "  22\n",
      "r 23\n",
      "e 24\n",
      "i 25\n",
      "  26\n",
      "d 27\n",
      "e 28\n",
      "  29\n",
      "r 30\n",
      "o 31\n",
      "m 32\n",
      "a 33\n"
     ]
    }
   ],
   "source": [
    "frase = \"o rato roeu a roupa do rei de roma\"\n",
    "tamanho_frase = len(frase)\n",
    "contador = 0\n",
    "\n",
    "while contador < tamanho_frase:\n",
    "    print(frase[contador], contador)\n",
    "    contador += 1"
   ]
  },
  {
   "cell_type": "code",
   "execution_count": 3,
   "id": "dcac120e",
   "metadata": {},
   "outputs": [
    {
     "name": "stdout",
     "output_type": "stream",
     "text": [
      "o\n",
      "o \n",
      "o r\n",
      "o ra\n",
      "o rat\n",
      "o rato\n",
      "o rato \n",
      "o rato r\n",
      "o rato ro\n",
      "o rato roe\n",
      "o rato roeu\n",
      "o rato roeu \n",
      "o rato roeu a\n",
      "o rato roeu a \n",
      "o rato roeu a r\n",
      "o rato roeu a ro\n",
      "o rato roeu a rou\n",
      "o rato roeu a roup\n",
      "o rato roeu a roupa\n",
      "o rato roeu a roupa \n",
      "o rato roeu a roupa d\n",
      "o rato roeu a roupa do\n",
      "o rato roeu a roupa do \n",
      "o rato roeu a roupa do r\n",
      "o rato roeu a roupa do re\n",
      "o rato roeu a roupa do rei\n",
      "o rato roeu a roupa do rei \n",
      "o rato roeu a roupa do rei d\n",
      "o rato roeu a roupa do rei de\n",
      "o rato roeu a roupa do rei de \n",
      "o rato roeu a roupa do rei de r\n",
      "o rato roeu a roupa do rei de ro\n",
      "o rato roeu a roupa do rei de rom\n",
      "o rato roeu a roupa do rei de roma\n"
     ]
    }
   ],
   "source": [
    "frase = \"o rato roeu a roupa do rei de roma\"\n",
    "tamanho_frase = len(frase)\n",
    "contador = 0\n",
    "nova_string = ''\n",
    "\n",
    "while contador < tamanho_frase:\n",
    "    nova_string += frase[contador]\n",
    "    print(nova_string)\n",
    "    contador += 1"
   ]
  },
  {
   "cell_type": "code",
   "execution_count": 4,
   "id": "374639a4",
   "metadata": {},
   "outputs": [
    {
     "name": "stdout",
     "output_type": "stream",
     "text": [
      "o Rato Roeu a Roupa do Rei de Roma\n"
     ]
    }
   ],
   "source": [
    "frase = \"o rato roeu a roupa do rei de roma\"\n",
    "tamanho_frase = len(frase)\n",
    "contador = 0\n",
    "nova_string = ''\n",
    "\n",
    "while contador < tamanho_frase:\n",
    "    letra = frase[contador]\n",
    "    if letra == 'r':\n",
    "        nova_string += 'R'\n",
    "    else:\n",
    "        nova_string += letra\n",
    "    contador += 1\n",
    "print(nova_string)"
   ]
  },
  {
   "cell_type": "code",
   "execution_count": null,
   "id": "3239d4f6",
   "metadata": {},
   "outputs": [],
   "source": []
  }
 ],
 "metadata": {
  "kernelspec": {
   "display_name": "Python 3",
   "language": "python",
   "name": "python3"
  },
  "language_info": {
   "codemirror_mode": {
    "name": "ipython",
    "version": 3
   },
   "file_extension": ".py",
   "mimetype": "text/x-python",
   "name": "python",
   "nbconvert_exporter": "python",
   "pygments_lexer": "ipython3",
   "version": "3.8.8"
  }
 },
 "nbformat": 4,
 "nbformat_minor": 5
}
