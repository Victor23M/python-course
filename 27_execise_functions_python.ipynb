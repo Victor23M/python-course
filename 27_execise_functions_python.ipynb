{
 "cells": [
  {
   "cell_type": "code",
   "execution_count": 2,
   "metadata": {},
   "outputs": [
    {
     "name": "stdout",
     "output_type": "stream",
     "text": [
      "A largura 5 e o comprimento 2 resultam na área 10.\n",
      "A largura 4 e o comprimento 2 resultam na área 8.\n"
     ]
    }
   ],
   "source": [
    "# Faça um programa que tenha uma função chamada área(), que receba as dimensões de um terreno retangular\n",
    "# (largura e comprimento) e mostre a área do terreno.\n",
    "\n",
    "def area(l, h):\n",
    "    ret = l * h\n",
    "    print(f'A largura {l} e o comprimento {h} resultam na área {ret}.')\n",
    "\n",
    "area(5, 2)\n",
    "area(4, 2)"
   ]
  },
  {
   "cell_type": "code",
   "execution_count": 3,
   "metadata": {},
   "outputs": [
    {
     "name": "stdout",
     "output_type": "stream",
     "text": [
      "------------------------------\n",
      "Hello World!\n",
      "------------------------------\n"
     ]
    }
   ],
   "source": [
    "# Faça um programa que tenha uma função chamada escreva(), que receba um texto qualquer como\n",
    "# parâmetro e mostre uma mensagem com tamanho adaptável.\n",
    "\n",
    "def escreva(txt):\n",
    "    print('-'*30)\n",
    "    print(txt)\n",
    "    print('-'*30)\n",
    "\n",
    "escreva('Hello World!')"
   ]
  },
  {
   "cell_type": "code",
   "execution_count": 9,
   "metadata": {},
   "outputs": [
    {
     "name": "stdout",
     "output_type": "stream",
     "text": [
      "1 2 3 4 5 6 7 8 9 10 Fim!\n",
      "------------------------------\n",
      "10 8 6 4 2 0 Fim!\n",
      "------------------------------\n",
      "0 2 4 6 8 10 Fim!\n",
      "------------------------------\n"
     ]
    }
   ],
   "source": [
    "# Faça uma programa que tenha uma função chamada contador(), que receba três parâmetros: início, fim e passo\n",
    "# e realize a contagem. Seu programa tem que realizar três contagens através da função criada:\n",
    "# a) de 1 até 10, de 1 em 1\n",
    "# b) de 10 até 0, de 2 em 2\n",
    "# c) uma contagem personalizada\n",
    "\n",
    "def contador(i, f, p):\n",
    "    for c in range(i, f+1, p):\n",
    "        print(c, end=' ')\n",
    "    print('Fim!')\n",
    "    print('-'*30)\n",
    "\n",
    "contador(1, 10, 1)\n",
    "contador(10, -2, -2)\n",
    "contador(0, 10, 2)"
   ]
  },
  {
   "cell_type": "code",
   "execution_count": 19,
   "metadata": {},
   "outputs": [
    {
     "name": "stdout",
     "output_type": "stream",
     "text": [
      "Foram digitados 10 valores e o maior é 9\n",
      "Foram digitados 5 valores e o maior é 5\n",
      "Foram digitados 3 valores e o maior é 6\n"
     ]
    }
   ],
   "source": [
    "# Faça um programa que tenha uma função chamada maior(), que recebe vários parâmetros com valores inteiros.\n",
    "# Seu programa tem que analisar todos os valores e dizer qual dele é o maior.\n",
    "\n",
    "def maior(*num):\n",
    "    num_maior = 0\n",
    "    for cont in range(0, len(num)):\n",
    "        if cont == 0:\n",
    "            num_maior = num[cont]\n",
    "        elif num[cont] > num_maior:\n",
    "            num_maior = num[cont]\n",
    "    print(f'Foram digitados {len(num)} valores e o maior é {num_maior}')\n",
    "\n",
    "\n",
    "maior(2, 4, 5, 8, 7, 9, 4, 6, 1, 0)\n",
    "maior(1, 2, 3, 4, 5)\n",
    "maior(4, 5, 6)"
   ]
  },
  {
   "cell_type": "code",
   "execution_count": 6,
   "metadata": {},
   "outputs": [
    {
     "name": "stdout",
     "output_type": "stream",
     "text": [
      "[27, 48, 44, 26, 35]\n",
      "48\n",
      "44\n",
      "26\n",
      "A soma dos números pares é 118\n"
     ]
    }
   ],
   "source": [
    "# Faça um programa que tenha uma lista chamada números e duas funções chamadas sorteio() e somaPar().\n",
    "# A primeira função vai sortear 5 números  e vai colocá-los dentro da lista e a segunda função vai\n",
    "# mostrar a soma entre todos os valores PARES sorteados pela função anterior.\n",
    " \n",
    "import random\n",
    "\n",
    "numeros = list()\n",
    "\n",
    "def sorteio():\n",
    "    for i in range(0,5):\n",
    "        numeros.append(random.randint(0,50))\n",
    "    print(numeros)\n",
    "\n",
    "def somaPar(list):\n",
    "    soma = 0\n",
    "    cont = 0\n",
    "    while cont < len(list):\n",
    "        if list[cont] % 2 == 0:\n",
    "            print(list[cont])\n",
    "            soma += list[cont]\n",
    "        cont += 1\n",
    "    print(f'A soma dos números pares é {soma}')\n",
    "\n",
    "\n",
    "sorteio()\n",
    "somaPar(numeros)"
   ]
  },
  {
   "cell_type": "code",
   "execution_count": null,
   "metadata": {},
   "outputs": [],
   "source": []
  }
 ],
 "metadata": {
  "kernelspec": {
   "display_name": "Python 3.10.2 64-bit",
   "language": "python",
   "name": "python3"
  },
  "language_info": {
   "codemirror_mode": {
    "name": "ipython",
    "version": 3
   },
   "file_extension": ".py",
   "mimetype": "text/x-python",
   "name": "python",
   "nbconvert_exporter": "python",
   "pygments_lexer": "ipython3",
   "version": "3.10.2"
  },
  "orig_nbformat": 4,
  "vscode": {
   "interpreter": {
    "hash": "369f2c481f4da34e4445cda3fffd2e751bd1c4d706f27375911949ba6bb62e1c"
   }
  }
 },
 "nbformat": 4,
 "nbformat_minor": 2
}
