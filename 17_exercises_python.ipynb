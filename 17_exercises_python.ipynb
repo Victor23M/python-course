{
 "cells": [
  {
   "cell_type": "code",
   "execution_count": 3,
   "id": "27450798",
   "metadata": {},
   "outputs": [
    {
     "name": "stdout",
     "output_type": "stream",
     "text": [
      "Digite um número: 4\n",
      "Digite um número: 5\n",
      "Digite um número: 1\n",
      "Digite um número: 999\n",
      "A quantidade de números digitados foi 3 e a soma deles é 10\n"
     ]
    }
   ],
   "source": [
    "# Crie um programa que leia vários números inteiros pelo teclado.\n",
    "# O programa só vai parar quando o usuário digitar o valor 999, que é\n",
    "# a condição de parada. No final mostre quantos números foram digitados\n",
    "# e qual foi a soma entre eles.\n",
    "\n",
    "num = 0\n",
    "soma = 0\n",
    "tot = 0\n",
    "while True:\n",
    "    num = int(input('Digite um número: '))\n",
    "    if num == 999:\n",
    "        break\n",
    "    soma += num\n",
    "    tot += 1\n",
    "print(f'A quantidade de números digitados foi {tot} e a soma deles é {soma}')\n"
   ]
  },
  {
   "cell_type": "code",
   "execution_count": 5,
   "id": "f8954708",
   "metadata": {},
   "outputs": [
    {
     "name": "stdout",
     "output_type": "stream",
     "text": [
      "Digite um número: 4\n",
      "4 x 1 = 4\n",
      "4 x 2 = 8\n",
      "4 x 3 = 12\n",
      "4 x 4 = 16\n",
      "4 x 5 = 20\n",
      "4 x 6 = 24\n",
      "4 x 7 = 28\n",
      "4 x 8 = 32\n",
      "4 x 9 = 36\n",
      "4 x 10 = 40\n",
      "\n",
      "\n",
      "Digite um número: -1\n",
      "Fim\n"
     ]
    }
   ],
   "source": [
    "# Faça um programa que mostre a tabuada de vários números, um de cada vez, para cada valor digitado.\n",
    "# O programa deve ser interrompido caso o número que for digitado seja negativo.\n",
    "\n",
    "cont = 1\n",
    "while True:\n",
    "    num = int(input('Digite um número: '))\n",
    "    if num < 0:\n",
    "        break\n",
    "    while cont <= 10:\n",
    "        print(f'{num} x {cont} = {num * cont}')\n",
    "        cont += 1\n",
    "    cont = 1\n",
    "    print('\\n')\n",
    "print('Fim')"
   ]
  },
  {
   "cell_type": "code",
   "execution_count": 7,
   "id": "540f7aa7",
   "metadata": {},
   "outputs": [
    {
     "name": "stdout",
     "output_type": "stream",
     "text": [
      "Par ou impar? impar\n",
      "Digite um número de 0 a 10: 3\n",
      "Par ou impar? par\n",
      "Digite um número de 0 a 10: 2\n",
      "Você perdeu!\n",
      "O número de vitórias foi 1\n"
     ]
    }
   ],
   "source": [
    "# Faça um programa que jogue par ou ímpar com o computador. O jogo só\n",
    "# será interrompido quando o jogador perder, mostrando o total de vitórias\n",
    "# consecutivas que ele conquistou no final do jogo.\n",
    "\n",
    "import random\n",
    "\n",
    "tot = 0\n",
    "while True:\n",
    "    x = random.randint(0,11)\n",
    "    escolha = input('Par ou impar? ').upper()\n",
    "    num = int(input('Digite um número de 0 a 10: '))\n",
    "    soma = x + num\n",
    "    if escolha == 'PAR':\n",
    "        if soma % 2 == 0:\n",
    "            tot += 1\n",
    "        else:\n",
    "            print('Você perdeu!')\n",
    "            break\n",
    "    if escolha == 'IMPAR':\n",
    "        if soma % 2 != 0:\n",
    "            tot += 1\n",
    "        else:\n",
    "            print('Você perdeu!')\n",
    "            break\n",
    "print(f'O número de vitórias foi {tot}')"
   ]
  },
  {
   "cell_type": "code",
   "execution_count": 16,
   "id": "88376c18",
   "metadata": {},
   "outputs": [
    {
     "name": "stdout",
     "output_type": "stream",
     "text": [
      "Digite seu sexo [M/F]: f\n",
      "Digite sua idade: 10\n",
      "Você deseja continuar? [S/N] n\n",
      "O total de maiores é 0\n",
      "O número de homens cadastrados foi de 0\n",
      "O número de mulheres com menos de 20 anos é 1\n"
     ]
    }
   ],
   "source": [
    "# Crie um programa que leia a idade e o sexo de várias pessoas.\n",
    "# A cada pessoa cadastrada, o programa deverá perguntar se o usuário\n",
    "# quer ou não continuar. No final, mostre:\n",
    "#     Quantas pessoas tem mais de 18 anos\n",
    "#     Quantos homens foram cadastrados\n",
    "#     Quantas mulheres tem menos de 20 anos\n",
    "\n",
    "tot = 0\n",
    "tot_h = 0\n",
    "tot_m = 0\n",
    "\n",
    "while True:\n",
    "    sexo = input('Digite seu sexo [M/F]: ').upper().strip()\n",
    "    idade = int(input('Digite sua idade: '))\n",
    "    \n",
    "    if idade >= 18:\n",
    "        tot += 1\n",
    "    if sexo == 'M':\n",
    "        print('Você é homem')\n",
    "        tot_h += 1\n",
    "    if sexo == 'F' and idade < 20:\n",
    "        tot_m += 1\n",
    "        \n",
    "    esc = input('Você deseja continuar? [S/N] ').upper().strip()\n",
    "    if esc == 'N':\n",
    "        break\n",
    "    else:\n",
    "        while esc != 'S':\n",
    "             esc = input('Você deseja continuar? [S/N] ').upper().strip()\n",
    "        \n",
    "print(f'O total de maiores é {tot}')\n",
    "print(f'O número de homens cadastrados foi de {tot_h}')\n",
    "print(f'O número de mulheres com menos de 20 anos é {tot_m}')\n"
   ]
  },
  {
   "cell_type": "code",
   "execution_count": 14,
   "id": "503cb1de",
   "metadata": {},
   "outputs": [
    {
     "name": "stdout",
     "output_type": "stream",
     "text": [
      "Nome do produto: balde\n",
      "Preço do produto: 20\n",
      "Você quer continuar? [S/N]: f\n",
      "Você quer continuar? [S/N]: s\n",
      "Nome do produto: celular\n",
      "Preço do produto: 2000\n",
      "Você quer continuar? [S/N]: s\n",
      "Nome do produto: tv\n",
      "Preço do produto: 3000\n",
      "Você quer continuar? [S/N]: n\n",
      "O nome do produto mais barato é BALDE\n",
      "O total gasto na compra foi R$5020.0\n",
      "O número de produtos que custam mais de R$ 1000 é 2\n"
     ]
    }
   ],
   "source": [
    "# Crie um programa que leia o nome e o preço de vários produtos.\n",
    "# O programa deverá perguntar se o usuário vai continuar. No final, mostre:\n",
    "#     Qual o total gasto na compra\n",
    "#     Quantos produtos custam mais de R$1000\n",
    "#     Qual o nome do produto mais barato\n",
    "\n",
    "tot = 0\n",
    "cont_maior = 0\n",
    "prod_barato = 0\n",
    "nome_prod_barato = ''\n",
    "while True:\n",
    "    nome = input('Nome do produto: ').upper().strip()\n",
    "    preco = float(input('Preço do produto: '))\n",
    "    tot += preco\n",
    "    \n",
    "    if preco >= 1000:\n",
    "        cont_maior += 1\n",
    "    if prod_barato == 0:\n",
    "        prod_barato = preco\n",
    "        nome_prod_barato = nome\n",
    "    elif preco < prod_barato:\n",
    "        prod_barato = preco\n",
    "        nome_prod_barato = nome\n",
    "    \n",
    "    esc = input('Você quer continuar? [S/N]: ').upper().strip()\n",
    "    if esc == 'N':\n",
    "        break\n",
    "    else:\n",
    "        while esc != 'S':\n",
    "                esc = input('Você quer continuar? [S/N]: ').upper().strip()\n",
    "            \n",
    "print(f'O nome do produto mais barato é {nome_prod_barato}')\n",
    "print(f'O total gasto na compra foi R${tot}')\n",
    "print(f'O número de produtos que custam mais de R$ 1000 é {cont_maior}')\n",
    "\n",
    "    \n",
    "    "
   ]
  },
  {
   "cell_type": "code",
   "execution_count": 2,
   "id": "8fbd34c9",
   "metadata": {},
   "outputs": [
    {
     "name": "stdout",
     "output_type": "stream",
     "text": [
      "Digite o valor a ser sacado: 520\n",
      "Total de 10 cédulas de R$50\n",
      "Total de 1 cédulas de R$20\n"
     ]
    }
   ],
   "source": [
    "# Crie um programa que simule o funcionamento de um caixa eletrônico.\n",
    "# No início, pergunte ao usuário qual será o valor sacado (número inteiro)\n",
    "# e o programa vai informar quantos cédulas de cada valores serão entregues.\n",
    "# Considere que o caixa possui cédulas de R$50 R$20 R$10 e R$1\n",
    "\n",
    "valor = int(input('Digite o valor a ser sacado: '))\n",
    "total = valor\n",
    "ced = 50\n",
    "total_ced = 0\n",
    "while True:\n",
    "    if total >= ced:\n",
    "        total -= ced\n",
    "        total_ced += 1\n",
    "    else:\n",
    "        if total_ced > 0:\n",
    "            print(f'Total de {total_ced} cédulas de R${ced}')\n",
    "        if ced == 50:\n",
    "            ced = 20\n",
    "        elif ced == 20:\n",
    "            ced = 10\n",
    "        elif ced == 10:\n",
    "            ced = 1\n",
    "        total_ced = 0\n",
    "        if total == 0:\n",
    "            break"
   ]
  },
  {
   "cell_type": "code",
   "execution_count": null,
   "id": "d94dfe37",
   "metadata": {},
   "outputs": [],
   "source": []
  }
 ],
 "metadata": {
  "kernelspec": {
   "display_name": "Python 3",
   "language": "python",
   "name": "python3"
  },
  "language_info": {
   "codemirror_mode": {
    "name": "ipython",
    "version": 3
   },
   "file_extension": ".py",
   "mimetype": "text/x-python",
   "name": "python",
   "nbconvert_exporter": "python",
   "pygments_lexer": "ipython3",
   "version": "3.8.8"
  }
 },
 "nbformat": 4,
 "nbformat_minor": 5
}
