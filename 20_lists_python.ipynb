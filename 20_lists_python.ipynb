{
 "cells": [
  {
   "cell_type": "code",
   "execution_count": 1,
   "id": "4f03b0d2",
   "metadata": {},
   "outputs": [
    {
     "name": "stdout",
     "output_type": "stream",
     "text": [
      "[1, 2, 9, 4, 5, 6]\n"
     ]
    }
   ],
   "source": [
    "# Listas, em geral, são muito semelhantes as Tuplas, entretanto elas são mutáveis e contam com diversos métodos.\n",
    "\n",
    "lista = [1, 2, 3, 4, 5, 6]\n",
    "lista[2] = 9\n",
    "print(lista)"
   ]
  },
  {
   "cell_type": "code",
   "execution_count": 3,
   "id": "f8a1aa30",
   "metadata": {},
   "outputs": [
    {
     "name": "stdout",
     "output_type": "stream",
     "text": [
      "[1, 2, 3, 4, 5, 6, 10]\n",
      "[12, 1, 2, 3, 4, 5, 6]\n"
     ]
    }
   ],
   "source": [
    "# Existem métodos para adicionar elementos às listas\n",
    "\n",
    "lista = [1, 2, 3, 4, 5, 6]\n",
    "lista.append(10)\n",
    "print(lista)\n",
    "\n",
    "lista = [1, 2, 3, 4, 5, 6]\n",
    "lista.insert(0,12) # Primeiro vem o index e depois o que será adicionado\n",
    "print(lista)"
   ]
  },
  {
   "cell_type": "code",
   "execution_count": 7,
   "id": "0e4205f1",
   "metadata": {},
   "outputs": [
    {
     "name": "stdout",
     "output_type": "stream",
     "text": [
      "[1, 2, 3]\n",
      "[1, 2]\n"
     ]
    }
   ],
   "source": [
    "# Existem métodos para excluir elementos das listas\n",
    "\n",
    "lista = [1, 2, 3, 4, 5, 6]\n",
    "del lista[3]\n",
    "lista.pop(3) # Se não for colocado index, ele retirará o último\n",
    "lista.remove(6) # Aqui não se coloca o index, mas o valor a ser retirado\n",
    "print(lista)\n",
    "\n",
    "# Atente-se para uma coisa, se você tentar excluir um item que já não existe mais, a linguagem\n",
    "# apresentará erro. Logo, use estruturas condicionais a seu favor.\n",
    "\n",
    "if 3 in lista:\n",
    "    lista.remove(3)\n",
    "print(lista)"
   ]
  },
  {
   "cell_type": "code",
   "execution_count": 15,
   "id": "3f61769d",
   "metadata": {},
   "outputs": [
    {
     "name": "stdout",
     "output_type": "stream",
     "text": [
      "[4, 5, 6, 7, 8, 9, 10]\n",
      "Digite o valor: 4\n",
      "Digite o valor: 5\n",
      "Digite o valor: 6\n",
      "Digite o valor: 7\n",
      "Digite o valor: 2\n",
      "Na posição 0 encontrei o valor 4!\n",
      "Na posição 1 encontrei o valor 5!\n",
      "Na posição 2 encontrei o valor 6!\n",
      "Na posição 3 encontrei o valor 7!\n",
      "Na posição 4 encontrei o valor 2!\n",
      "Cheguei ao final da lista\n",
      "[4, 5, 6, 7, 2]\n",
      "[6, 5, 4, 3, 2, 1]\n"
     ]
    }
   ],
   "source": [
    "# É possível preencher com estruturas de repetição\n",
    "\n",
    "valores = list(range(4,11))\n",
    "print(valores)\n",
    "\n",
    "val = list()\n",
    "for cont in range(0, 5):\n",
    "    val.append(int(input('Digite o valor: ')))\n",
    "\n",
    "for c, v in enumerate(val):\n",
    "    print(f'Na posição {c} encontrei o valor {v}!')\n",
    "print('Cheguei ao final da lista')\n",
    "print(val)\n",
    "\n",
    "# Além disso, existem outros métodos que organizam uma lista\n",
    "lista = [6, 5, 4, 3, 2, 1]\n",
    "lista.sort()\n",
    "lista.sort(reverse = True)\n",
    "print(lista)"
   ]
  },
  {
   "cell_type": "code",
   "execution_count": 17,
   "id": "b929ec3f",
   "metadata": {},
   "outputs": [
    {
     "name": "stdout",
     "output_type": "stream",
     "text": [
      "Lista A: [2, 3, 8, 7]\n",
      "Lista B: [2, 3, 8, 7]\n",
      "Lista C: [2, 3, 8, 7]\n",
      "Lista D: [2, 3, 4, 7]\n"
     ]
    }
   ],
   "source": [
    "# Cuidado com a relação para não igualar duas listas, ao invés de copiá-las\n",
    "a = [2, 3, 4, 7]\n",
    "b = a\n",
    "b[2] = 8\n",
    "print(f'Lista A: {a}')\n",
    "print(f'Lista B: {b}') # Elas foram igualadas\n",
    "\n",
    "c = [2, 3, 4, 7]\n",
    "d = c[:]\n",
    "c[2] = 8\n",
    "print(f'Lista C: {c}')\n",
    "print(f'Lista D: {d}')\n"
   ]
  },
  {
   "cell_type": "code",
   "execution_count": null,
   "id": "c3677411",
   "metadata": {},
   "outputs": [],
   "source": []
  }
 ],
 "metadata": {
  "kernelspec": {
   "display_name": "Python 3",
   "language": "python",
   "name": "python3"
  },
  "language_info": {
   "codemirror_mode": {
    "name": "ipython",
    "version": 3
   },
   "file_extension": ".py",
   "mimetype": "text/x-python",
   "name": "python",
   "nbconvert_exporter": "python",
   "pygments_lexer": "ipython3",
   "version": "3.8.8"
  }
 },
 "nbformat": 4,
 "nbformat_minor": 5
}
