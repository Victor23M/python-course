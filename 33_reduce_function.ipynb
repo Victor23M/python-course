{
 "cells": [
  {
   "cell_type": "code",
   "execution_count": 2,
   "metadata": {},
   "outputs": [
    {
     "data": {
      "text/plain": [
       "113"
      ]
     },
     "execution_count": 2,
     "metadata": {},
     "output_type": "execute_result"
    }
   ],
   "source": [
    "# Assim como a função map(), a função reduce() também recebe dois argumentos, sendo o primeiro uma função e o\n",
    "# segundo uma sequência, a exemplo uma lista.\n",
    "# Ao contrário da função map(), que aplica a função a cada elemento da sequência  e retorna uma outra sequência \n",
    "# de elementos, a função reduce() aplica a função passada como parâmetro aos elementos da sequência, até que reste\n",
    "# um só elemento.\n",
    "\n",
    "\n",
    "# Para utilizar a função reduce é necessário importar do pacote functools\n",
    "from functools import reduce\n",
    "from re import X\n",
    "\n",
    "# Criando uma lista\n",
    "lista = [47, 11, 42, 13]\n",
    "\n",
    "# Função\n",
    "def soma(a, b):\n",
    "    x = a + b\n",
    "    return x\n",
    "\n",
    "# Usando reduce com uma função e uma lista. A função vai retornar o valor máximo.\n",
    "reduce(soma, lista)\n"
   ]
  },
  {
   "cell_type": "code",
   "execution_count": 3,
   "metadata": {},
   "outputs": [
    {
     "data": {
      "text/plain": [
       "113"
      ]
     },
     "execution_count": 3,
     "metadata": {},
     "output_type": "execute_result"
    }
   ],
   "source": [
    "# Criando uma lista\n",
    "lst = [47, 11, 42, 13]\n",
    "\n",
    "# Usando a função reduce() com lambda\n",
    "reduce(lambda x,y: x+y, lst)\n"
   ]
  },
  {
   "cell_type": "code",
   "execution_count": 4,
   "metadata": {},
   "outputs": [
    {
     "data": {
      "text/plain": [
       "47"
      ]
     },
     "execution_count": 4,
     "metadata": {},
     "output_type": "execute_result"
    }
   ],
   "source": [
    "# Pode ser atribuido a expressão lambda a uma variável\n",
    "max_find2 = lambda a,b: a if (a>b) else b\n",
    "\n",
    "type(max_find2)\n",
    "\n",
    "# Reduzindo a lista até o valor máximo, através da função criada com a expressão lambda\n",
    "reduce(max_find2, lst)\n"
   ]
  },
  {
   "cell_type": "code",
   "execution_count": null,
   "metadata": {},
   "outputs": [],
   "source": []
  }
 ],
 "metadata": {
  "kernelspec": {
   "display_name": "Python 3.10.2 64-bit",
   "language": "python",
   "name": "python3"
  },
  "language_info": {
   "codemirror_mode": {
    "name": "ipython",
    "version": 3
   },
   "file_extension": ".py",
   "mimetype": "text/x-python",
   "name": "python",
   "nbconvert_exporter": "python",
   "pygments_lexer": "ipython3",
   "version": "3.10.2"
  },
  "orig_nbformat": 4,
  "vscode": {
   "interpreter": {
    "hash": "369f2c481f4da34e4445cda3fffd2e751bd1c4d706f27375911949ba6bb62e1c"
   }
  }
 },
 "nbformat": 4,
 "nbformat_minor": 2
}
