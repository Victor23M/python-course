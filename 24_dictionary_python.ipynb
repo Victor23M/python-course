{
 "cells": [
  {
   "cell_type": "code",
   "execution_count": 1,
   "id": "2d9f292d",
   "metadata": {},
   "outputs": [
    {
     "name": "stdout",
     "output_type": "stream",
     "text": [
      "O Gustavo tem 23 anos\n"
     ]
    }
   ],
   "source": [
    "# Dicionários são variáveis compostas que podem armazenar dados de forma dinâmica tal qual uma lista.\n",
    "# Entretanto se diferenciam das listas, pois é possível atribuir nomes ao invés de index para chaves, as quais contém valores.\n",
    "\n",
    "pessoas = {'Nome': 'Gustavo', 'Sexo': 'M', 'Idade': 23}\n",
    "print(f'O {pessoas[\"Nome\"]} tem {pessoas[\"Idade\"]} anos') # É necessário colocar aspas duplas já que aspas simples foram usadas\n",
    "                                                          # na parte de fora\n",
    "    \n"
   ]
  },
  {
   "cell_type": "code",
   "execution_count": 5,
   "id": "0ffff8d5",
   "metadata": {},
   "outputs": [
    {
     "name": "stdout",
     "output_type": "stream",
     "text": [
      "dict_keys(['Nome', 'Sexo', 'Idade'])\n",
      "dict_values(['Gustavo', 'M', 23])\n",
      "dict_items([('Nome', 'Gustavo'), ('Sexo', 'M'), ('Idade', 23)])\n",
      "Nome\n",
      "Sexo\n",
      "Idade\n",
      "Nome = Gustavo\n",
      "Sexo = M\n",
      "Idade = 23\n"
     ]
    }
   ],
   "source": [
    "# É possível acessar o dicionário de diferentes formas, visualizando somente as chaves, os valores e chaves com valores.\n",
    "\n",
    "pessoas = {'Nome': 'Gustavo', 'Sexo': 'M', 'Idade': 23}\n",
    "print(pessoas.keys())\n",
    "print(pessoas.values())\n",
    "print(pessoas.items())\n",
    "\n",
    "for k in pessoas.keys(): #Isso também pode ser usado para values e items!\n",
    "    print(k)\n",
    "    \n",
    "for k, v in pessoas.items(): # Para items, é necessário passar os dois parâmetros!\n",
    "    print(f'{k} = {v}')"
   ]
  },
  {
   "cell_type": "code",
   "execution_count": 9,
   "id": "5c5a8442",
   "metadata": {},
   "outputs": [
    {
     "name": "stdout",
     "output_type": "stream",
     "text": [
      "João\n",
      "23\n"
     ]
    }
   ],
   "source": [
    "# É possível excluir os dados presentes nos dicionários através do método del. Além de ser possível atribuir novos valores.\n",
    "\n",
    "pessoas = {'Nome': 'Gustavo', 'Sexo': 'M', 'Idade': 23}\n",
    "del pessoas['Sexo']\n",
    "pessoas['Nome'] = 'João'\n",
    "\n",
    "for k in pessoas.values(): \n",
    "    print(k)"
   ]
  },
  {
   "cell_type": "code",
   "execution_count": 12,
   "id": "ec4f8809",
   "metadata": {},
   "outputs": [
    {
     "name": "stdout",
     "output_type": "stream",
     "text": [
      "[{'uf': 'Rio de Janeiro', 'sigla': 'RJ'}, {'uf': 'São Paulo', 'sigla': 'SP'}]\n",
      "{'uf': 'São Paulo', 'sigla': 'SP'}\n",
      "Rio de Janeiro\n"
     ]
    }
   ],
   "source": [
    "# Existe a possibilidade de colocar um dicionário dentro de uma lista, além disso é possível acumular e organizar dicionários\n",
    "# dentro de listas.\n",
    "\n",
    "brasil = []\n",
    "estado1 = {'uf': 'Rio de Janeiro', 'sigla': 'RJ'}\n",
    "estado2 = {'uf': 'São Paulo', 'sigla': 'SP'}\n",
    "brasil.append(estado1)\n",
    "brasil.append(estado2)\n",
    "print(brasil)\n",
    "print(brasil[1])\n",
    "print(brasil[0]['uf'])"
   ]
  },
  {
   "cell_type": "code",
   "execution_count": 15,
   "id": "04133fab",
   "metadata": {},
   "outputs": [
    {
     "name": "stdout",
     "output_type": "stream",
     "text": [
      "Unidade Federativa: Ceará\n",
      "Sigla do Estado: CE\n",
      "Unidade Federativa: São Paulo\n",
      "Sigla do Estado: SP\n",
      "Unidade Federativa: Rio de Janeiro\n",
      "Sigla do Estado: RJ\n",
      "uf Ceará\n",
      "sigla CE\n",
      "uf São Paulo\n",
      "sigla SP\n",
      "uf Rio de Janeiro\n",
      "sigla RJ\n"
     ]
    }
   ],
   "source": [
    "# Existem duas possibilidades no momento de criar um dicionário:\n",
    "estado = dict() # Ou estado = {}\n",
    "brasil = list()\n",
    "for c in range(0,3):\n",
    "    estado['uf'] = input('Unidade Federativa: ')\n",
    "    estado['sigla'] = input('Sigla do Estado: ')\n",
    "    brasil.append(estado.copy()) # A técnica do fatiamento não é válida aqui\n",
    "\n",
    "for e in brasil:\n",
    "    for v, p in e.items():\n",
    "        print(f'{v} {p}')\n"
   ]
  },
  {
   "cell_type": "code",
   "execution_count": null,
   "id": "b7b52c22",
   "metadata": {},
   "outputs": [],
   "source": []
  }
 ],
 "metadata": {
  "kernelspec": {
   "display_name": "Python 3.10.2 64-bit",
   "language": "python",
   "name": "python3"
  },
  "language_info": {
   "codemirror_mode": {
    "name": "ipython",
    "version": 3
   },
   "file_extension": ".py",
   "mimetype": "text/x-python",
   "name": "python",
   "nbconvert_exporter": "python",
   "pygments_lexer": "ipython3",
   "version": "3.10.2"
  },
  "vscode": {
   "interpreter": {
    "hash": "369f2c481f4da34e4445cda3fffd2e751bd1c4d706f27375911949ba6bb62e1c"
   }
  }
 },
 "nbformat": 4,
 "nbformat_minor": 5
}
