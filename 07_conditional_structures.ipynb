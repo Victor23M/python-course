{
 "cells": [
  {
   "cell_type": "code",
   "execution_count": 6,
   "id": "653a7202",
   "metadata": {},
   "outputs": [
    {
     "name": "stdout",
     "output_type": "stream",
     "text": [
      "Qual o seu nome? Joao\n",
      "Qual a sua idade? 23\n",
      "Joao pode pegar um empréstimo.\n"
     ]
    }
   ],
   "source": [
    "nome = input('Qual o seu nome? ')\n",
    "idade = input('Qual a sua idade? ')\n",
    "\n",
    "idade = int(idade)\n",
    "\n",
    "# Limite de idade para pegar um empréstimo\n",
    "idade_menor = 20\n",
    "idade_maior = 30\n",
    "\n",
    "if (idade >= 20 and idade <= 30 ):\n",
    "    print(f'{nome} pode pegar um empréstimo.')\n",
    "    \n",
    "else:\n",
    "    print(f'{nome} não está permitido a pegar um empréstimo.')"
   ]
  },
  {
   "cell_type": "code",
   "execution_count": 11,
   "id": "5177ca57",
   "metadata": {},
   "outputs": [
    {
     "name": "stdout",
     "output_type": "stream",
     "text": [
      "Nome do usuário: luiz\n",
      "Senha do usuário: 123456\n",
      "Você está logado no sistema.\n"
     ]
    }
   ],
   "source": [
    "usuario = input('Nome do usuário: ')\n",
    "senha = input(\"Senha do usuário: \")\n",
    "\n",
    "usuario_bd = 'luiz'\n",
    "senha_bd = '123456'\n",
    "\n",
    "if (usuario_bd == usuario and senha_bd == senha):\n",
    "    print('Você está logado no sistema.')\n",
    "else:\n",
    "    print('Usuário ou senha inválidos.')\n",
    "    "
   ]
  },
  {
   "cell_type": "code",
   "execution_count": null,
   "id": "767d6afe",
   "metadata": {},
   "outputs": [],
   "source": []
  }
 ],
 "metadata": {
  "kernelspec": {
   "display_name": "Python 3",
   "language": "python",
   "name": "python3"
  },
  "language_info": {
   "codemirror_mode": {
    "name": "ipython",
    "version": 3
   },
   "file_extension": ".py",
   "mimetype": "text/x-python",
   "name": "python",
   "nbconvert_exporter": "python",
   "pygments_lexer": "ipython3",
   "version": "3.8.8"
  }
 },
 "nbformat": 4,
 "nbformat_minor": 5
}
