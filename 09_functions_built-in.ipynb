{
 "cells": [
  {
   "cell_type": "code",
   "execution_count": 1,
   "id": "65308e86",
   "metadata": {},
   "outputs": [
    {
     "name": "stdout",
     "output_type": "stream",
     "text": [
      "Digite um numero: 2\n",
      "Digite um numero: 2\n",
      "4\n"
     ]
    }
   ],
   "source": [
    "num1 = input('Digite um numero: ')\n",
    "num2 = input('Digite um numero: ')\n",
    "\n",
    "if num1.isdigit() and num2.isdigit():\n",
    "    num1 = int(num1)\n",
    "    num2 = int(num2)\n",
    "    print(num1 + num2)\n",
    "    \n",
    "else:\n",
    "    print('ERROR')"
   ]
  },
  {
   "cell_type": "code",
   "execution_count": 2,
   "id": "cc045374",
   "metadata": {},
   "outputs": [
    {
     "name": "stdout",
     "output_type": "stream",
     "text": [
      "Digite um numero: 2.3\n",
      "Digite um numero: 4.1\n",
      "6.3999999999999995\n"
     ]
    }
   ],
   "source": [
    "import re\n",
    " \n",
    "def is_float(val):\n",
    "    if isinstance(val, float): return True\n",
    "    if re.search(r'^\\-{,1}[0-9]+\\.{1}[0-9]+$', val): return True\n",
    " \n",
    "    return False\n",
    " \n",
    "def is_int(val):\n",
    "    if isinstance(val, int): return True\n",
    "    if re.search(r'^\\-{,1}[0-9]+$', val): return True\n",
    " \n",
    "    return False\n",
    " \n",
    "def is_number(val):\n",
    "    return is_int(val) or is_float(val)\n",
    "\n",
    "num1 = input('Digite um numero: ')\n",
    "num2 = input('Digite um numero: ')\n",
    "\n",
    "if is_number(num1) and is_number(num2):\n",
    "    num1 = float(num1)\n",
    "    num2 = float(num2)\n",
    "    print(num1 + num2)\n",
    "    \n",
    "else:\n",
    "    print('ERROR')"
   ]
  },
  {
   "cell_type": "code",
   "execution_count": 3,
   "id": "d470a797",
   "metadata": {},
   "outputs": [
    {
     "name": "stdout",
     "output_type": "stream",
     "text": [
      "Digite um numero: 2\n",
      "Digite um numero: 2\n",
      "4\n"
     ]
    }
   ],
   "source": [
    "num1 = input('Digite um numero: ')\n",
    "num2 = input('Digite um numero: ')\n",
    "\n",
    "try:\n",
    "    num1 = int(num1)\n",
    "    num2 = int(num2)\n",
    "    print(num1 + num2)\n",
    "    \n",
    "except:\n",
    "    print('ERROR')"
   ]
  },
  {
   "cell_type": "code",
   "execution_count": null,
   "id": "912d037d",
   "metadata": {},
   "outputs": [],
   "source": []
  }
 ],
 "metadata": {
  "kernelspec": {
   "display_name": "Python 3",
   "language": "python",
   "name": "python3"
  },
  "language_info": {
   "codemirror_mode": {
    "name": "ipython",
    "version": 3
   },
   "file_extension": ".py",
   "mimetype": "text/x-python",
   "name": "python",
   "nbconvert_exporter": "python",
   "pygments_lexer": "ipython3",
   "version": "3.8.8"
  }
 },
 "nbformat": 4,
 "nbformat_minor": 5
}
