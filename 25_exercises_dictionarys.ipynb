{
 "cells": [
  {
   "cell_type": "code",
   "execution_count": 5,
   "id": "57a632ca",
   "metadata": {},
   "outputs": [
    {
     "name": "stdout",
     "output_type": "stream",
     "text": [
      "Digite o nome do aluno: Rita\n",
      "Digite a primeira nota: 10\n",
      "Digite a segunda nota: 8\n",
      "Você deseja continuar? [S/N] s\n",
      "Digite o nome do aluno: Caio\n",
      "Digite a primeira nota: 9\n",
      "Digite a segunda nota: 9\n",
      "Você deseja continuar? [S/N] n\n",
      "[{'Nome': 'Rita', 'Nota1': 10, 'Nota2': 8, 'Média': 9.0}, {'Nome': 'Caio', 'Nota1': 9, 'Nota2': 9, 'Média': 9.0}]\n"
     ]
    }
   ],
   "source": [
    "# Faça um programa que leia nome e média de um aluno,\n",
    "# guardando também a situação em um dicionário. No final,\n",
    "# mostre o conteúdo da estrutura na tela.\n",
    "\n",
    "aluno = dict()\n",
    "colegio = list()\n",
    "while True:\n",
    "    aluno['Nome'] = input('Digite o nome do aluno: ')\n",
    "    aluno['Nota1'] = int(input('Digite a primeira nota: '))\n",
    "    aluno['Nota2'] = int(input('Digite a segunda nota: '))\n",
    "    aluno['Média'] = (aluno['Nota1']+aluno['Nota2'])/2\n",
    "    colegio.append(aluno.copy())\n",
    "    esc = input('Você deseja continuar? [S/N] ').upper()\n",
    "    if esc == 'S':\n",
    "        continue\n",
    "    elif esc == 'N':\n",
    "        break\n",
    "    else:\n",
    "        esc = input('Você deseja continuar? [S/N] ').upper()\n",
    "print(colegio)"
   ]
  },
  {
   "cell_type": "code",
   "execution_count": 30,
   "id": "aaa0b6e5",
   "metadata": {},
   "outputs": [
    {
     "name": "stdout",
     "output_type": "stream",
     "text": [
      "O resultado do Jogador1 foi 3\n",
      "O resultado do Jogador2 foi 4\n",
      "O resultado do Jogador3 foi 4\n",
      "O resultado do Jogador4 foi 2\n",
      "1° lugar: Jogador2 com 4.\n",
      "2° lugar: Jogador3 com 4.\n",
      "3° lugar: Jogador1 com 3.\n",
      "4° lugar: Jogador4 com 2.\n"
     ]
    }
   ],
   "source": [
    "# Crie um programa onde 4 jogadores joguem um dado e tenham resultados aleatórios.\n",
    "# Guarde esses resultados em um dicionário. No final, coloque esse dicionário em\n",
    "# ordem, sabendo que o vencedor tirou o maior número do dado.\n",
    "import random\n",
    "from time import sleep\n",
    "from operator import itemgetter\n",
    "jogo = {'Jogador1': random.randint(1,6), \n",
    "        'Jogador2': random.randint(1,6), \n",
    "        'Jogador3': random.randint(1,6), \n",
    "        'Jogador4': random.randint(1,6)}\n",
    "ranking = list()\n",
    "for k, v in jogo.items():\n",
    "    print(f'O resultado do {k} foi {v}')\n",
    "    sleep(1)\n",
    "    ranking.append(v)\n",
    "\n",
    "ranking = sorted(jogo.items(), key=itemgetter(1), reverse=True)\n",
    "\n",
    "# Para usar a função sorted, é necessário usar itemgetter e jogar\n",
    "# o conteúdo em uma lista, além de passar como parâmetro o que se\n",
    "# quer no dicionário (o index 1 corresponde a valor).\n",
    "for i, v in enumerate(ranking):\n",
    "    print(f'{i+1}° lugar: {v[0]} com {v[1]}.')\n",
    "    sleep(1)\n"
   ]
  },
  {
   "cell_type": "code",
   "execution_count": 1,
   "id": "81a3c3ba",
   "metadata": {},
   "outputs": [
    {
     "name": "stdout",
     "output_type": "stream",
     "text": [
      "==============================\n",
      " - Nome tem o valor João\n",
      " - Idade tem o valor 24\n",
      " - CTPS tem o valor 3333\n",
      " - Contrato tem o valor 2022\n",
      " - Salário tem o valor 2500.0\n",
      " - Aposentadoria tem o valor 59\n"
     ]
    }
   ],
   "source": [
    "# Crie um programa que leia o nome, ano de nascimento e carteira de trabalho e cadestre-os\n",
    "# (com idade) em um dicionário se por acaso a CTPS for diferente de zero, o dicionário também\n",
    "# receberá o ano de contratação e o salário. Calcule e acrecente, além da idade, com quantos\n",
    "# anos a pessoa vai se aposentar.\n",
    "from datetime import datetime\n",
    "atual = datetime.now().year\n",
    "pessoa = dict()\n",
    "\n",
    "pessoa['Nome'] = input('Nome: ')\n",
    "ano = int(input('Ano de Nascimento: '))\n",
    "pessoa['Idade'] = atual - ano\n",
    "pessoa['CTPS'] = int(input('Carteira de Trabalho (0 não tem): '))\n",
    "if pessoa['CTPS'] != 0:\n",
    "    pessoa['Contrato'] = int(input('Ano de Contratação: '))\n",
    "    pessoa['Salário'] = float(input('Digite o Salário: '))\n",
    "    pessoa['Aposentadoria'] = pessoa['Idade'] + ((pessoa['Contrato'] + 35) - datetime.now().year)\n",
    "print('='*30)\n",
    "for k, v in pessoa.items():\n",
    "    print(f' - {k} tem o valor {v}')\n",
    "    \n",
    "\n"
   ]
  },
  {
   "cell_type": "code",
   "execution_count": null,
   "id": "c247c4f2",
   "metadata": {},
   "outputs": [],
   "source": [
    "# Crie um programa que gerencieo aproveitamento de um jogador de futebol. O programador\n",
    "# vai ler a quantidade de gols feitos em cada partida. No final, tudo isso será guardado\n",
    "# em um dicionário, incluindo o total de gols feitos durante o campeonato.\n",
    "\n"
   ]
  }
 ],
 "metadata": {
  "kernelspec": {
   "display_name": "Python 3.10.2 64-bit",
   "language": "python",
   "name": "python3"
  },
  "language_info": {
   "codemirror_mode": {
    "name": "ipython",
    "version": 3
   },
   "file_extension": ".py",
   "mimetype": "text/x-python",
   "name": "python",
   "nbconvert_exporter": "python",
   "pygments_lexer": "ipython3",
   "version": "3.10.2"
  },
  "vscode": {
   "interpreter": {
    "hash": "369f2c481f4da34e4445cda3fffd2e751bd1c4d706f27375911949ba6bb62e1c"
   }
  }
 },
 "nbformat": 4,
 "nbformat_minor": 5
}
