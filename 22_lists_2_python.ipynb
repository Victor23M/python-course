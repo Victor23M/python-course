{
 "cells": [
  {
   "cell_type": "code",
   "execution_count": 3,
   "id": "cdb61013",
   "metadata": {},
   "outputs": [
    {
     "name": "stdout",
     "output_type": "stream",
     "text": [
      "[['Gustavo', 40], ['Maria', 22]]\n"
     ]
    }
   ],
   "source": [
    "teste = list()\n",
    "teste.append('Gustavo')\n",
    "teste.append(40)\n",
    "galera = list()\n",
    "galera.append(teste[:])\n",
    "teste[0] = 'Maria'\n",
    "teste[1] = 22\n",
    "galera.append(teste[:])\n",
    "print(galera)"
   ]
  },
  {
   "cell_type": "code",
   "execution_count": 5,
   "id": "7efadd55",
   "metadata": {},
   "outputs": [
    {
     "name": "stdout",
     "output_type": "stream",
     "text": [
      "19\n",
      "João, tem 19 anos de idade.\n",
      "Ana, tem 33 anos de idade.\n",
      "Joaquim, tem 13 anos de idade.\n",
      "Maria, tem 45 anos de idade.\n"
     ]
    }
   ],
   "source": [
    "# Para acessar os elementos de uma lista contidos em uma lista, primeiro vem o index da lista e depois o\n",
    "# index do elemento da lista interno.\n",
    "\n",
    "galera = [['João', 19], ['Ana', 33], ['Joaquim', 13], ['Maria', 45]]\n",
    "print(galera[0][1])\n",
    "\n",
    "for p in galera:\n",
    "    print(f'{p[0]}, tem {p[1]} anos de idade.')"
   ]
  },
  {
   "cell_type": "code",
   "execution_count": null,
   "id": "3e84b81e",
   "metadata": {},
   "outputs": [
    {
     "name": "stdout",
     "output_type": "stream",
     "text": [
      "Nome: aaaaaaaa\n"
     ]
    }
   ],
   "source": [
    "galera = list()\n",
    "dado = list()\n",
    "totmen = 0\n",
    "totmai = 0\n",
    "for c in range(0,3):\n",
    "    dado.append(input('Nome: '))\n",
    "    dado.append(int(input('Idade: ')))\n",
    "    galera.append(dado[:])\n",
    "    dado.clear()\n",
    "\n",
    "for p in galera:\n",
    "    if p[1] >= 21:\n",
    "        print(f'{p[0]}, é maior de idade')\n",
    "        totmai += 1\n",
    "    else:\n",
    "        print(f'{p[0]}, é maior de idade')\n",
    "        totmen += 1\n",
    "print(f'Temos {totmai} maiores e {totmen} menores de idade')"
   ]
  },
  {
   "cell_type": "code",
   "execution_count": null,
   "id": "a9df597d",
   "metadata": {},
   "outputs": [],
   "source": []
  }
 ],
 "metadata": {
  "kernelspec": {
   "display_name": "Python 3",
   "language": "python",
   "name": "python3"
  },
  "language_info": {
   "codemirror_mode": {
    "name": "ipython",
    "version": 3
   },
   "file_extension": ".py",
   "mimetype": "text/x-python",
   "name": "python",
   "nbconvert_exporter": "python",
   "pygments_lexer": "ipython3",
   "version": "3.8.8"
  }
 },
 "nbformat": 4,
 "nbformat_minor": 5
}
