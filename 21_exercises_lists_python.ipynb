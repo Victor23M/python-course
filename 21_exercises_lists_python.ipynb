{
 "cells": [
  {
   "cell_type": "code",
   "execution_count": 6,
   "id": "f536176e",
   "metadata": {},
   "outputs": [
    {
     "name": "stdout",
     "output_type": "stream",
     "text": [
      "Digite um valor: 2\n",
      "Digite um valor: 4\n",
      "Digite um valor: 5\n",
      "Digite um valor: 8\n",
      "Digite um valor: 9\n",
      "Os valores da lista são [2, 4, 5, 8, 9]\n",
      "O maior valor é 9 e sua posição é 5°\n",
      "O menor valor é 2 e sua posição é 1°\n"
     ]
    }
   ],
   "source": [
    "# Faça um programa que leia 5 valores numéricos e guarde-os em uma lista.\n",
    "# No final, mostre qual foi o maior e o menor valor digitado e as suas,\n",
    "# respectivas posições na lista.\n",
    "\n",
    "valores  = list()\n",
    "for cont in range(0,5):\n",
    "    valores.append(int(input('Digite um valor: ')))\n",
    "    if cont == 0:\n",
    "        maior = valores[cont]\n",
    "        menor = valores[cont]\n",
    "    else:\n",
    "        if valores[cont] > maior:\n",
    "            maior = valores[cont]\n",
    "        if valores[cont] < menor:\n",
    "            menor = valores[cont]\n",
    "            \n",
    "print(f'Os valores da lista são {valores}')\n",
    "print(f'O maior valor é {maior} e sua posição é {valores.index(maior)+1}°')\n",
    "print(f'O menor valor é {menor} e sua posição é {valores.index(menor)+1}°')\n"
   ]
  },
  {
   "cell_type": "code",
   "execution_count": 11,
   "id": "9032451d",
   "metadata": {},
   "outputs": [
    {
     "name": "stdout",
     "output_type": "stream",
     "text": [
      "Digite um número: 3\n",
      "Você deseja continuar? [S/N]: s\n",
      "Digite um número: 2\n",
      "Você deseja continuar? [S/N]: s\n",
      "Digite um número: 1\n",
      "Você deseja continuar? [S/N]: s\n",
      "Digite um número: 0\n",
      "Você deseja continuar? [S/N]: n\n",
      "Os valores da lista são [3, 2, 1, 0]\n",
      "Os valores em ordem crescente são [0, 1, 2, 3]\n"
     ]
    }
   ],
   "source": [
    "# Crie um programa onde o usuário possa digitar vários valores numéricos\n",
    "# e cadastre-os em uma lista. Caso o número já existe lá dentro, ele não\n",
    "# será adicionado. No final,  serão exibidos todos os valores únicos digitados\n",
    "# em ordem crescente.\n",
    "\n",
    "valores = list()\n",
    "\n",
    "while True:\n",
    "    num = int(input('Digite um número: '))\n",
    "    if num not in valores:\n",
    "        valores.append(num)\n",
    "    esc = input('Você deseja continuar? [S/N]: ').upper()\n",
    "    if esc == 'S':\n",
    "        continue\n",
    "    elif esc == 'N':\n",
    "        break\n",
    "    else:\n",
    "        esc = input('Você deseja continuar? [S/N]: ').upper()\n",
    "\n",
    "    \n",
    "print(f'Os valores da lista são {valores}')\n",
    "valores.sort()\n",
    "print(f'Os valores em ordem crescente são {valores}')"
   ]
  },
  {
   "cell_type": "code",
   "execution_count": 7,
   "id": "4c8f85dc",
   "metadata": {},
   "outputs": [
    {
     "name": "stdout",
     "output_type": "stream",
     "text": [
      "Digite um número: 2\n",
      "Digite um número: 3\n",
      "Digite um número: 4\n",
      "Digite um número: 8\n",
      "Digite um número: 6\n",
      "[2, 3, 4, 6, 8]\n"
     ]
    }
   ],
   "source": [
    "# Crie um programa onde o usuário possa digitar cinco\n",
    "# valores numéricos e cadastre-os em uma lista, já na\n",
    "# posição correta de inserção. (sem usar o sort()).\n",
    "# No final, mostre a lista ordenada na tela.\n",
    "\n",
    "valores = list()\n",
    "\n",
    "for cont in range(0,5):\n",
    "    num = int(input('Digite um número: '))\n",
    "    if cont == 0 or num > valores[-1]:\n",
    "        valores.append(num)\n",
    "    else:\n",
    "        pos = 0\n",
    "        while pos < len(valores):\n",
    "            if num <= valores[pos]:\n",
    "                valores.insert(pos, num)\n",
    "                break\n",
    "            pos += 1\n",
    "            \n",
    "print(valores)\n",
    "\n"
   ]
  },
  {
   "cell_type": "code",
   "execution_count": 16,
   "id": "d3e477dc",
   "metadata": {},
   "outputs": [
    {
     "name": "stdout",
     "output_type": "stream",
     "text": [
      "Digite um número: 5\n",
      "Você deseja continuar? [S/N]: s\n",
      "Digite um número: 2\n",
      "Você deseja continuar? [S/N]: s\n",
      "Digite um número: 3\n",
      "Você deseja continuar? [S/N]: s\n",
      "Digite um número: 4\n",
      "Você deseja continuar? [S/N]: n\n",
      "A quantidade de valores digitados foi 4\n",
      "[5, 4, 3, 2]\n",
      "O 5 está na lista na posição 1°\n"
     ]
    }
   ],
   "source": [
    "# Crie um programa que vai ler vários números e colocar em uma lista.\n",
    "# Depois mostre isso:\n",
    "#     Quantos números foram digitados;\n",
    "#     A lista de valores ordenada de forma decrescente;\n",
    "#     Se o valor 5 foi digitado e está ou não na lista.\n",
    "\n",
    "valores = list()\n",
    "\n",
    "while True:\n",
    "    num = int(input('Digite um número: '))\n",
    "    if num not in valores:\n",
    "        valores.append(num)\n",
    "    esc = input('Você deseja continuar? [S/N]: ').upper()\n",
    "    if esc == 'S':\n",
    "        continue\n",
    "    elif esc == 'N':\n",
    "        break\n",
    "    else:\n",
    "        esc = input('Você deseja continuar? [S/N]: ').upper()\n",
    "        \n",
    "print(f'A quantidade de valores digitados foi {len(valores)}')        \n",
    "valores.sort(reverse = True)\n",
    "print(valores)\n",
    "if 5 in valores:\n",
    "    print(f'O 5 está na lista na posição {valores.index(5)+1}')\n",
    "else:\n",
    "    print(f'O 5 não está na lista')"
   ]
  },
  {
   "cell_type": "code",
   "execution_count": 1,
   "id": "796ccf7e",
   "metadata": {},
   "outputs": [
    {
     "name": "stdout",
     "output_type": "stream",
     "text": [
      "Digite o número: 4\n",
      "Você deseja continuar? [S/N]: s\n",
      "Digite o número: 2\n",
      "Você deseja continuar? [S/N]: s\n",
      "Digite o número: 3\n",
      "Você deseja continuar? [S/N]: s\n",
      "Digite o número: 5\n",
      "Você deseja continuar? [S/N]: n\n",
      "Os valores digitados foram [4, 2, 3, 5]\n",
      "Os valores pares digitados foram [4, 2]\n",
      "Os valores impares digitados foram [3, 5]\n"
     ]
    }
   ],
   "source": [
    "# Crie um programas que vai ler vários números e colocar em uma lista.\n",
    "# Depois disso, cire duas listas extras que vão conter apenas os valores\n",
    "# pares e os valores ímpares digitados, respectivamente.\n",
    "# Ao final, mostre o conteúdo das três listas gerados.\n",
    "\n",
    "valores = list()\n",
    "pares = list()\n",
    "impares = list()\n",
    "while True:\n",
    "    num = int(input('Digite o número: '))\n",
    "    valores.append(num)\n",
    "    if num % 2 == 0:\n",
    "        pares.append(num)\n",
    "    elif num % 2 != 0:\n",
    "        impares.append(num)\n",
    "    esc = input('Você deseja continuar? [S/N]: ').upper()\n",
    "    if esc == 'S':\n",
    "        continue\n",
    "    elif esc == 'N':\n",
    "        break\n",
    "    else:\n",
    "        esc = input('Você deseja continuar? [S/N]: ').upper()\n",
    "\n",
    "print(f'Os valores digitados foram {valores}')\n",
    "print(f'Os valores pares digitados foram {pares}')\n",
    "print(f'Os valores impares digitados foram {impares}')\n"
   ]
  },
  {
   "cell_type": "code",
   "execution_count": 8,
   "id": "d90181de",
   "metadata": {},
   "outputs": [
    {
     "name": "stdout",
     "output_type": "stream",
     "text": [
      "Digite uma expressão: (a+b)\n",
      "Expressão válida\n"
     ]
    }
   ],
   "source": [
    "# Crie um programa onde o usuário digite uma expressão qualquer\n",
    "# que use parênteses. Seu aplicativo deverá analisar analisar\n",
    "# se a expressão passada está com os parênteses abertos e fechados\n",
    "# na ordem correta.\n",
    "\n",
    "expr = input('Digite uma expressão: ')\n",
    "pilha = []\n",
    "for simb in expr:\n",
    "    if simb == '(':\n",
    "        pilha.append('(')\n",
    "    elif simb == ')':\n",
    "        if len(pilha) > 0:\n",
    "            pilha.pop()\n",
    "        else:\n",
    "            pilha.append(')')\n",
    "            break\n",
    "if len(pilha) == 0:\n",
    "    print('Expressão válida')\n",
    "else:\n",
    "    print('Expressão inválida')"
   ]
  },
  {
   "cell_type": "code",
   "execution_count": null,
   "id": "33ef144f",
   "metadata": {},
   "outputs": [],
   "source": []
  }
 ],
 "metadata": {
  "kernelspec": {
   "display_name": "Python 3",
   "language": "python",
   "name": "python3"
  },
  "language_info": {
   "codemirror_mode": {
    "name": "ipython",
    "version": 3
   },
   "file_extension": ".py",
   "mimetype": "text/x-python",
   "name": "python",
   "nbconvert_exporter": "python",
   "pygments_lexer": "ipython3",
   "version": "3.8.8"
  }
 },
 "nbformat": 4,
 "nbformat_minor": 5
}
