{
 "cells": [
  {
   "cell_type": "code",
   "execution_count": 1,
   "id": "fa2563c2",
   "metadata": {},
   "outputs": [],
   "source": [
    "valor = True\n",
    "\n",
    "if valor:\n",
    "    pass\n",
    "else:\n",
    "    print('Bye')"
   ]
  },
  {
   "cell_type": "code",
   "execution_count": 2,
   "id": "46246c8f",
   "metadata": {},
   "outputs": [],
   "source": [
    "valor = True\n",
    "\n",
    "if valor:\n",
    "    ...\n",
    "else:\n",
    "    print('Bye')"
   ]
  },
  {
   "cell_type": "code",
   "execution_count": null,
   "id": "2537e822",
   "metadata": {},
   "outputs": [],
   "source": []
  }
 ],
 "metadata": {
  "kernelspec": {
   "display_name": "Python 3",
   "language": "python",
   "name": "python3"
  },
  "language_info": {
   "codemirror_mode": {
    "name": "ipython",
    "version": 3
   },
   "file_extension": ".py",
   "mimetype": "text/x-python",
   "name": "python",
   "nbconvert_exporter": "python",
   "pygments_lexer": "ipython3",
   "version": "3.8.8"
  }
 },
 "nbformat": 4,
 "nbformat_minor": 5
}
