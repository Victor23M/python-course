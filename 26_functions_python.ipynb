{
 "cells": [
  {
   "cell_type": "code",
   "execution_count": 2,
   "metadata": {},
   "outputs": [
    {
     "name": "stdout",
     "output_type": "stream",
     "text": [
      "------------------------------\n",
      "Hello World!\n",
      "------------------------------\n"
     ]
    }
   ],
   "source": [
    "# Funções são programas que facilitam o funcionamento de rotinas. Eles fazem com que várias situações repetitivas se\n",
    "# tornem mais automáticas e funcionais. Em Python, toda função a ser construída, necessita ter def em seu início.\n",
    "\n",
    "def lin():\n",
    "    print('-'*30)\n",
    "\n",
    "lin()\n",
    "print('Hello World!')\n",
    "lin()"
   ]
  },
  {
   "cell_type": "code",
   "execution_count": 5,
   "metadata": {},
   "outputs": [
    {
     "name": "stdout",
     "output_type": "stream",
     "text": [
      "------------------------------\n",
      "SISTEMA DE APRENDIZADO\n",
      "------------------------------\n",
      "6\n",
      "11\n",
      "8\n"
     ]
    }
   ],
   "source": [
    "# Funções também podem ser passadas com parâmetros, a fim de que sejam usadas no momento da execução da função.\n",
    "\n",
    "def mensagem(msg):\n",
    "    print('-'*30)\n",
    "    print(msg)\n",
    "    print('-'*30)\n",
    "\n",
    "mensagem('SISTEMA DE APRENDIZADO')\n",
    "\n",
    "def soma(a, b):\n",
    "    s = a + b\n",
    "    print(s)\n",
    "\n",
    "soma(4, 2)\n",
    "soma(5, 6)\n",
    "soma(4, 4)"
   ]
  },
  {
   "cell_type": "code",
   "execution_count": 8,
   "metadata": {},
   "outputs": [
    {
     "name": "stdout",
     "output_type": "stream",
     "text": [
      "Recebi os valores (2, 1, 4) e são ao todo 3 números.\n",
      "Recebi os valores (8, 0) e são ao todo 2 números.\n",
      "Recebi os valores (4, 2, 5, 7, 10) e são ao todo 5 números.\n"
     ]
    }
   ],
   "source": [
    "# Caso seja necessário passar vários parâmetros sem que necessariamente saibam quantos vão ser passados,\n",
    "# é possível desempacotar variáveis no Python. Tudo isso ao colocar um * antes.\n",
    "\n",
    "def contador(*num):\n",
    "    tam = len(num)\n",
    "    print(f'Recebi os valores {num} e são ao todo {tam} números.')\n",
    "\n",
    "contador(2, 1, 4)\n",
    "contador(8, 0)\n",
    "contador(4, 2, 5, 7, 10)"
   ]
  },
  {
   "cell_type": "code",
   "execution_count": 9,
   "metadata": {},
   "outputs": [
    {
     "name": "stdout",
     "output_type": "stream",
     "text": [
      "[14, 10, 4, 8, 12, 16]\n"
     ]
    }
   ],
   "source": [
    "# É possível manipular listas com funções feitas, como dobrar os valores de uma lista.\n",
    "\n",
    "def dobra(list):\n",
    "    pos = 0\n",
    "    while pos < len(list):\n",
    "        list[pos] *= 2\n",
    "        pos += 1\n",
    "valores = [7, 5, 2, 4, 6, 8]\n",
    "dobra(valores)\n",
    "print(valores)"
   ]
  },
  {
   "cell_type": "code",
   "execution_count": null,
   "metadata": {},
   "outputs": [],
   "source": []
  }
 ],
 "metadata": {
  "kernelspec": {
   "display_name": "Python 3.10.2 64-bit",
   "language": "python",
   "name": "python3"
  },
  "language_info": {
   "codemirror_mode": {
    "name": "ipython",
    "version": 3
   },
   "file_extension": ".py",
   "mimetype": "text/x-python",
   "name": "python",
   "nbconvert_exporter": "python",
   "pygments_lexer": "ipython3",
   "version": "3.10.2"
  },
  "orig_nbformat": 4,
  "vscode": {
   "interpreter": {
    "hash": "369f2c481f4da34e4445cda3fffd2e751bd1c4d706f27375911949ba6bb62e1c"
   }
  }
 },
 "nbformat": 4,
 "nbformat_minor": 2
}
