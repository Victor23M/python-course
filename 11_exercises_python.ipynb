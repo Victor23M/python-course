{
 "cells": [
  {
   "cell_type": "code",
   "execution_count": 3,
   "id": "734cdd85",
   "metadata": {},
   "outputs": [
    {
     "name": "stdout",
     "output_type": "stream",
     "text": [
      "Digite um número: a\n",
      "O número não é um inteiro!\n"
     ]
    }
   ],
   "source": [
    "# Fazer um programa que peça ao usuário para digitar um número inteiro, \n",
    "# informe se este número é par ou ímpar, caso um usuário não digite\n",
    "# um número inteiro, informe que não é um número inteiro.\n",
    "\n",
    "num1 = input('Digite um número: ')\n",
    "\n",
    "if num1.isdecimal():\n",
    "    num1 = int(num1)\n",
    "    \n",
    "    if (num1%2 == 0):\n",
    "        print('Seu número é par!')\n",
    "    else:\n",
    "        print('Seu número é ímpar!')\n",
    "else:\n",
    "    print('O número não é um inteiro!')\n",
    "    "
   ]
  },
  {
   "cell_type": "code",
   "execution_count": 3,
   "id": "0236d497",
   "metadata": {},
   "outputs": [
    {
     "name": "stdout",
     "output_type": "stream",
     "text": [
      "Digite o horário: 10.2\n",
      "Bom dia\n"
     ]
    }
   ],
   "source": [
    "# Faça um programa que pergunte a hora ao usuário e, baseando-se no horário\n",
    "# descrito, exiba a saudação apropriada. Ex. Bom dia 0-11, Boa tarde 12-17\n",
    "# e Boa noite 18-23\n",
    "\n",
    "hora = input('Digite o horário: ')\n",
    "\n",
    "\n",
    "try:\n",
    "    hora = float(hora)\n",
    "    \n",
    "    if hora >= 0 and hora <= 11:\n",
    "        print('Bom dia')\n",
    "    elif hora > 11 and hora < 17:\n",
    "        print('Boa tarde')\n",
    "    else:\n",
    "        print('Boa noite')\n",
    "\n",
    "except: \n",
    "    print('ERROR')\n",
    "    "
   ]
  },
  {
   "cell_type": "code",
   "execution_count": 7,
   "id": "fb9093be",
   "metadata": {},
   "outputs": [
    {
     "name": "stdout",
     "output_type": "stream",
     "text": [
      "Digite seu nome: Joao\n",
      "Seu nome é curto!\n"
     ]
    }
   ],
   "source": [
    "# Faça um programa que peça o primeiro nome do usuário. Se o nome tiver 4 letras ou\n",
    "# menos escreva \"Seu nome é curto\"; Se tiver entre 5 e 6 letras, escreva \"Seu nome é normal\";\n",
    "# Se tiver mais que 6 letras, escreva \"Seu nome é muito grande\".\n",
    "\n",
    "nome = input('Digite seu nome: ')\n",
    "qtd_letras = len(nome)\n",
    "\n",
    "if qtd_letras <= 4:\n",
    "    print('Seu nome é curto!')\n",
    "elif qtd_letras >= 5 and qtd_letras <= 6:\n",
    "    print('Seu nome é normal!')\n",
    "else:\n",
    "    print('Seu nome é muito grande!')"
   ]
  },
  {
   "cell_type": "code",
   "execution_count": null,
   "id": "e841da46",
   "metadata": {},
   "outputs": [],
   "source": []
  }
 ],
 "metadata": {
  "kernelspec": {
   "display_name": "Python 3",
   "language": "python",
   "name": "python3"
  },
  "language_info": {
   "codemirror_mode": {
    "name": "ipython",
    "version": 3
   },
   "file_extension": ".py",
   "mimetype": "text/x-python",
   "name": "python",
   "nbconvert_exporter": "python",
   "pygments_lexer": "ipython3",
   "version": "3.8.8"
  }
 },
 "nbformat": 4,
 "nbformat_minor": 5
}
