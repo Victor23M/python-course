{
 "cells": [
  {
   "cell_type": "code",
   "execution_count": 2,
   "id": "0a6d97a2",
   "metadata": {},
   "outputs": [
    {
     "name": "stdout",
     "output_type": "stream",
     "text": [
      "10!\n",
      "9!\n",
      "8!\n",
      "7!\n",
      "6!\n",
      "5!\n",
      "4!\n",
      "3!\n",
      "2!\n",
      "1!\n",
      "0!\n",
      "Fogos!!!\n"
     ]
    }
   ],
   "source": [
    "# Faça um programa que mostre na tela uma contagem\n",
    "# regressiva para o estouro de fogos de artifício,\n",
    "# indo de 10 até 0, com uma pausa de 1 segundo entre elas.\n",
    "\n",
    "import time\n",
    "\n",
    "for contagem in range(10, -1, -1):\n",
    "    time.sleep(1)\n",
    "    print(f'{contagem}!')\n",
    "    if contagem == 0:\n",
    "        print('Fogos!!!')\n",
    "        "
   ]
  },
  {
   "cell_type": "code",
   "execution_count": 3,
   "id": "340dfae1",
   "metadata": {},
   "outputs": [
    {
     "name": "stdout",
     "output_type": "stream",
     "text": [
      "2\n",
      "4\n",
      "6\n",
      "8\n",
      "10\n",
      "12\n",
      "14\n",
      "16\n",
      "18\n",
      "20\n",
      "22\n",
      "24\n",
      "26\n",
      "28\n",
      "30\n",
      "32\n",
      "34\n",
      "36\n",
      "38\n",
      "40\n",
      "42\n",
      "44\n",
      "46\n",
      "48\n",
      "50\n"
     ]
    }
   ],
   "source": [
    "# Crie um programa que mostre na tela todos os\n",
    "# números pares que estão no intervalo de 1 a 50\n",
    "\n",
    "for num_par in range(1, 51, 1):\n",
    "    if num_par%2 == 0:\n",
    "        print(num_par)\n",
    "    "
   ]
  },
  {
   "cell_type": "code",
   "execution_count": 8,
   "id": "2c154bf1",
   "metadata": {},
   "outputs": [
    {
     "name": "stdout",
     "output_type": "stream",
     "text": [
      "A soma dos números ímpares é 20667\n"
     ]
    }
   ],
   "source": [
    "# Faça um programa que calcule a soma entre todos os números ímpares\n",
    "# que são múltiplos de três e que se encontram no intervalo de 1 a 500\n",
    "\n",
    "soma_num = 0\n",
    "\n",
    "for num in range(0, 501, 3):\n",
    "    if num%3 == 0 and num%2 != 0:\n",
    "        soma_num += num\n",
    "print(f'A soma dos números ímpares é {soma_num}')"
   ]
  },
  {
   "cell_type": "code",
   "execution_count": 10,
   "id": "e0d1194f",
   "metadata": {},
   "outputs": [
    {
     "name": "stdout",
     "output_type": "stream",
     "text": [
      "Digite um número: 5\n",
      "0 x 5 = 0\n",
      "1 x 5 = 5\n",
      "2 x 5 = 10\n",
      "3 x 5 = 15\n",
      "4 x 5 = 20\n",
      "5 x 5 = 25\n",
      "6 x 5 = 30\n",
      "7 x 5 = 35\n",
      "8 x 5 = 40\n",
      "9 x 5 = 45\n",
      "10 x 5 = 50\n"
     ]
    }
   ],
   "source": [
    "# Mostre a tabuada de um número que o usuário escolher, só que agora utilizando o laço for\n",
    "\n",
    "num = input('Digite um número: ')\n",
    "if num.isnumeric():\n",
    "    num = int(num)\n",
    "\n",
    "for x in range(0, 11, 1):\n",
    "    print(f'{x} x {num} = {x*num}')"
   ]
  },
  {
   "cell_type": "code",
   "execution_count": 12,
   "id": "5a3afa5d",
   "metadata": {},
   "outputs": [
    {
     "name": "stdout",
     "output_type": "stream",
     "text": [
      "Digite um número: 2\n",
      "Digite um número: 4\n",
      "Digite um número: 6\n",
      "Digite um número: 8\n",
      "Digite um número: 10\n",
      "Digite um número: 12\n",
      "A soma dos números pares é 42\n"
     ]
    }
   ],
   "source": [
    "# Desenvolva um programa que leia seis números inteirose mostre\n",
    "# a soma apenas daqueles que forem pares. Se o valor digitado\n",
    "# for ímpar, desconsidere-o\n",
    "\n",
    "soma_num = 0\n",
    "\n",
    "for x in range(1, 7, 1):\n",
    "    num = int(input('Digite um número: '))\n",
    "    if num%2 == 0:\n",
    "        soma_num += num\n",
    "print(f'A soma dos números pares é {soma_num}')"
   ]
  },
  {
   "cell_type": "code",
   "execution_count": 25,
   "id": "51357f9e",
   "metadata": {},
   "outputs": [
    {
     "name": "stdout",
     "output_type": "stream",
     "text": [
      "Digite um número: 1\n",
      "Digite uma razão para a PA: 1\n",
      "1\n",
      "2\n",
      "3\n",
      "4\n",
      "5\n",
      "6\n",
      "7\n",
      "8\n",
      "9\n",
      "10\n"
     ]
    }
   ],
   "source": [
    "# Desenvolva um programa que leia o primeiro termo\n",
    "# e a razão de uma PA. No final, mostre os 10 primeiros\n",
    "# termos dessa progressão\n",
    "\n",
    "num_init = int(input('Digite um número: '))\n",
    "razao = int(input('Digite uma razão para a PA: '))\n",
    "aux = 0\n",
    "\n",
    "for pa in range(1, 11, 1):\n",
    "    num_init += aux\n",
    "    aux = razao\n",
    "    print(num_init)    "
   ]
  },
  {
   "cell_type": "code",
   "execution_count": 30,
   "id": "924c8f52",
   "metadata": {},
   "outputs": [
    {
     "name": "stdout",
     "output_type": "stream",
     "text": [
      "Digite um número: 7\n",
      "O número é primo!\n"
     ]
    }
   ],
   "source": [
    "# Faça um programa que leia um número inteiro\n",
    "# e diga se ele é um número primo ou não\n",
    "\n",
    "num = int(input('Digite um número: '))\n",
    "tot = 0\n",
    "for c in range(1, num + 1):\n",
    "    if num % c == 0:\n",
    "        tot += 1\n",
    "        \n",
    "if tot == 2:\n",
    "    print('O número é primo!')\n",
    "else:\n",
    "    print('O número não é primo!')"
   ]
  },
  {
   "cell_type": "code",
   "execution_count": 6,
   "id": "695d36e1",
   "metadata": {},
   "outputs": [
    {
     "name": "stdout",
     "output_type": "stream",
     "text": [
      "Digite uma frase: ana\n",
      "É um palíndromo!\n"
     ]
    }
   ],
   "source": [
    "# Crie um programa que leia uma frase qualquer\n",
    "# e diga se ela é um palíndromo, desconsiderando\n",
    "# os espaços\n",
    "\n",
    "frase = str(input('Digite uma frase: ')).strip().upper()\n",
    "palavras = frase.split()\n",
    "junto = ''.join(palavras)\n",
    "inverso = ''\n",
    "\n",
    "\n",
    "for letra in range(len(junto) - 1, -1, -1):\n",
    "        inverso += junto[letra]\n",
    "        \n",
    "if inverso == junto:\n",
    "    print('É um palíndromo!')\n",
    "else:\n",
    "    print('Não é um palíndromo!')\n",
    "        "
   ]
  },
  {
   "cell_type": "code",
   "execution_count": 11,
   "id": "22b40df5",
   "metadata": {},
   "outputs": [
    {
     "name": "stdout",
     "output_type": "stream",
     "text": [
      "Digite seu ano de nascimento: 1998\n",
      "Digite seu ano de nascimento: 1998\n",
      "Digite seu ano de nascimento: 1998\n",
      "Digite seu ano de nascimento: 1998\n",
      "Digite seu ano de nascimento: 1998\n",
      "Digite seu ano de nascimento: 1998\n",
      "Digite seu ano de nascimento: 1998\n",
      "O número de pessoas maior é 7 e de menores é 0\n"
     ]
    }
   ],
   "source": [
    "# Crie um programa que leia o ano de nascimento de\n",
    "# sete pessoas. No final, mostre quantas pessoas\n",
    "# ainda não atingirama maioridade e quantas já\n",
    "# são maiores\n",
    "\n",
    "from datetime import date\n",
    "\n",
    "atual = date.today().year\n",
    "totmaior = 0\n",
    "totmenor = 0\n",
    "for pess in range(1, 8):\n",
    "    nasc = int(input('Digite seu ano de nascimento: '))\n",
    "    idade = atual - nasc\n",
    "    if idade >= 21:\n",
    "        totmaior += 1\n",
    "    else:\n",
    "        totmenor += 1\n",
    "print(f'O número de pessoas maior é {totmaior} e de menores é {totmenor}')\n",
    "    "
   ]
  },
  {
   "cell_type": "code",
   "execution_count": 13,
   "id": "51e62427",
   "metadata": {},
   "outputs": [
    {
     "name": "stdout",
     "output_type": "stream",
     "text": [
      "Digite o peso: 80\n",
      "Digite o peso: 81\n",
      "Digite o peso: 83\n",
      "Digite o peso: 74\n",
      "Digite o peso: 90\n",
      "O maior peso é 90.0\n",
      "O menor peso é 74.0\n"
     ]
    }
   ],
   "source": [
    "# Faça um programa que leia o peso de \n",
    "# cinco pessoas. No final mostre qual foi \n",
    "# o maior e o menor pesos lidos.\n",
    "\n",
    "maior = 0\n",
    "menor = 0\n",
    "for p in range(1, 6):\n",
    "    peso = float(input('Digite o peso: '))\n",
    "    if p == 1:\n",
    "        maior = peso\n",
    "        menor = peso\n",
    "    else:\n",
    "        if peso > maior:\n",
    "            maior = peso\n",
    "        elif peso < menor:\n",
    "            menor = peso\n",
    "print(f'O maior peso é {maior}')\n",
    "print(f'O menor peso é {menor}')"
   ]
  },
  {
   "cell_type": "code",
   "execution_count": null,
   "id": "98b4d13e",
   "metadata": {},
   "outputs": [
    {
     "name": "stdout",
     "output_type": "stream",
     "text": [
      "------1° PESSOA\n"
     ]
    }
   ],
   "source": [
    "# Desenvolva um programa que leia o nome, idade e sexo de 4 pessoas. No final do programa, mostre:\n",
    "# A média de idade do grupo; Qual é o homem mais velho; Quantas mulheres têm menos de 20 anos\n",
    "\n",
    "soma_id = 0\n",
    "nome_velho = ''\n",
    "maior_id = 0\n",
    "tot_mulher = 0\n",
    "\n",
    "for p in range(1, 5):\n",
    "    print('------{}° PESSOA'.format(p))\n",
    "    nome = str(input('Nome: ')).strip()\n",
    "    idade = int(input('Idade: '))\n",
    "    sexo = str(input('Sexo: ')).strip()\n",
    "    soma_id += idade\n",
    "    \n",
    "    if p == 1 and sexo in 'Mm':\n",
    "        maior_id = idade\n",
    "        nome_velho = nome\n",
    "    elif sexo in 'Mm' and idade > maior_id:\n",
    "        maior_id = idade\n",
    "        nome_velho = nome\n",
    "    elif sexo in 'Ff' and idade < 20:\n",
    "        tot_mulher += 1\n",
    "media_id = idade / 4\n",
    "\n",
    "print('A média de idade é {}'. format(media_id))\n",
    "print('O homem mais velhor é {}, e sua idade é {}'.format(nome_velho, maior_id))\n",
    "print('Existem {} mulheres com menos de 20'.format(tot_mulher))\n",
    "\n",
    "    "
   ]
  },
  {
   "cell_type": "code",
   "execution_count": null,
   "id": "5c0663d0",
   "metadata": {},
   "outputs": [],
   "source": []
  }
 ],
 "metadata": {
  "kernelspec": {
   "display_name": "Python 3",
   "language": "python",
   "name": "python3"
  },
  "language_info": {
   "codemirror_mode": {
    "name": "ipython",
    "version": 3
   },
   "file_extension": ".py",
   "mimetype": "text/x-python",
   "name": "python",
   "nbconvert_exporter": "python",
   "pygments_lexer": "ipython3",
   "version": "3.8.8"
  }
 },
 "nbformat": 4,
 "nbformat_minor": 5
}
