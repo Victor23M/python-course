{
 "cells": [
  {
   "cell_type": "code",
   "execution_count": 4,
   "id": "af375735",
   "metadata": {},
   "outputs": [
    {
     "name": "stdout",
     "output_type": "stream",
     "text": [
      "Digite seu nome: Pedro\n",
      "Digite sua idade: 23\n",
      "Digite seu peso com até 2 casas decimais: 89.20\n",
      "Digite sua altura com até 2 casas decimais: 1.81\n",
      "Pedro tem 23, nasceu em 1999, e seu IMC é 27.23\n"
     ]
    }
   ],
   "source": [
    "# Criar variáveis pana nome (str), idade (int),\n",
    "# altura (float), e peso (float) de uma pessoa\n",
    "# Criar variável com o ano atual (int)\n",
    "# Obter o ano de nascimento da pessoa (baseado na idade e no ano atual)\n",
    "# Obter o IMC da pessoa com 2 casas decimais (peso e na altura da pessoa)\n",
    "# Exibir um texto com todos os valores utilizando F-strings (com chaves)\n",
    "\n",
    "nome = input('Digite seu nome: ')\n",
    "idade = int(input('Digite sua idade: '))\n",
    "peso = float(input('Digite seu peso com até 2 casas decimais: '))\n",
    "altura = float(input('Digite sua altura com até 2 casas decimais: '))\n",
    "ano_atual = 2022\n",
    "\n",
    "imc = (peso/altura**2)\n",
    "ano_nascimento = (ano_atual - idade)\n",
    "\n",
    "print('{n} tem {i}, nasceu em {a}, e seu IMC é {m:.2f}' .format(n=nome, i=idade, a=ano_nascimento, m=imc ))\n"
   ]
  },
  {
   "cell_type": "code",
   "execution_count": null,
   "id": "f876504b",
   "metadata": {},
   "outputs": [],
   "source": []
  }
 ],
 "metadata": {
  "kernelspec": {
   "display_name": "Python 3",
   "language": "python",
   "name": "python3"
  },
  "language_info": {
   "codemirror_mode": {
    "name": "ipython",
    "version": 3
   },
   "file_extension": ".py",
   "mimetype": "text/x-python",
   "name": "python",
   "nbconvert_exporter": "python",
   "pygments_lexer": "ipython3",
   "version": "3.8.8"
  }
 },
 "nbformat": 4,
 "nbformat_minor": 5
}
