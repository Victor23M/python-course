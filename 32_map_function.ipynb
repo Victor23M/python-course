{
 "cells": [
  {
   "cell_type": "code",
   "execution_count": 1,
   "metadata": {},
   "outputs": [
    {
     "name": "stdout",
     "output_type": "stream",
     "text": [
      "[1, 4, 9, 16, 25]\n"
     ]
    }
   ],
   "source": [
    "# O Python fornece várias funções que permitem uma abordagem funcional à programação, oferecendo mais facilidade\n",
    "# na criação do código. Pode-se dizer que a programação funcional é uma programação orientada à expressão.\n",
    "# Funções orientadas à expressão, em Python:\n",
    "    # map(Função, Sequência)\n",
    "    # reduce(Função, Sequência)\n",
    "    # filter(Função, Sequência)\n",
    "    # lambda\n",
    "    # list comprehension\n",
    "\n",
    "# Estes são exemplos de funções built-in que facilitam o desenvolvimento de um código em Python. Para map, reduce e filter\n",
    "# é necessário passar dois argumentos, sendo o primeiro destes o nome de uma função e o segundo uma sequência, a exemplo uma lista.\n",
    "\n",
    "lista = [1, 2, 3, 4, 5]\n",
    "quadrados = []\n",
    "\n",
    "for x in lista:\n",
    "    quadrados.append(x**2)\n",
    "\n",
    "print(quadrados)\n"
   ]
  },
  {
   "cell_type": "code",
   "execution_count": 10,
   "metadata": {},
   "outputs": [
    {
     "name": "stdout",
     "output_type": "stream",
     "text": [
      "32.0\n",
      "72.5\n",
      "104.0\n",
      "212.0\n"
     ]
    },
    {
     "data": {
      "text/plain": [
       "[-17.77777777777778, -5.277777777777778, 4.444444444444445, 37.77777777777778]"
      ]
     },
     "execution_count": 10,
     "metadata": {},
     "output_type": "execute_result"
    }
   ],
   "source": [
    "# Função map(): Vai aplicar a função do primeiro argumento a todos os elementos da sequência.\n",
    "\n",
    "# Criando duas funções\n",
    "# Função 1 - Recebe uma temperatura como parâmetro e retorna a temperatura em Farenheit\n",
    "def farenheit(t):\n",
    "    return ((float(9)/5)*t + 32)\n",
    "\n",
    "# Função 2 - Recebe uma temperatura como parâmetro e retorna a temperatura em Celsius\n",
    "def celsius(c):\n",
    "    return (float(5)/9)*(c-32)\n",
    "\n",
    "# Criando uma lista\n",
    "temperaturas = [0, 22.5, 40, 100]\n",
    "\n",
    "# Aplicando a função a cada elemento da lista de temperaturas.\n",
    "# Em Python 3, a função map() retorna um interator\n",
    "map(farenheit, temperaturas)\n",
    "\n",
    "# Função map() retornando a lista de temperaturas convertidas em Farenheit\n",
    "list(map(farenheit, temperaturas))\n",
    "\n",
    "# Usando um loop para imprimir no console o resultado da função map()\n",
    "for temp in map(farenheit, temperaturas):\n",
    "    print(temp)\n",
    "\n",
    "\n",
    "# Aplicando a função map() para a conversão em Celsius\n",
    "map(celsius, temperaturas)\n",
    "\n",
    "list(map(celsius, temperaturas))"
   ]
  },
  {
   "cell_type": "code",
   "execution_count": 12,
   "metadata": {},
   "outputs": [
    {
     "data": {
      "text/plain": [
       "[-17.77777777777778, -5.277777777777778, 4.444444444444445, 37.77777777777778]"
      ]
     },
     "execution_count": 12,
     "metadata": {},
     "output_type": "execute_result"
    }
   ],
   "source": [
    "# A função lambda também pode ser usada em uma função map()\n",
    "\n",
    "map(lambda x: (5.0/9)*(x - 32), temperaturas)\n",
    "\n",
    "list(map(lambda x: (5.0/9)*(x - 32), temperaturas))\n"
   ]
  },
  {
   "cell_type": "code",
   "execution_count": 14,
   "metadata": {},
   "outputs": [
    {
     "data": {
      "text/plain": [
       "[18, 21, 24, 27, 30]"
      ]
     },
     "execution_count": 14,
     "metadata": {},
     "output_type": "execute_result"
    }
   ],
   "source": [
    "# Somando elementos de listas distintas utilizando função lambda e função map()\n",
    "\n",
    "a = [1, 2, 3, 4, 5]\n",
    "b = [6, 7, 8, 9, 10]\n",
    "\n",
    "list(map(lambda x,y:x+y, a, b))\n",
    "\n",
    "# Somando de três listas distintas!\n",
    "a = [1, 2, 3, 4, 5]\n",
    "b = [6, 7, 8, 9, 10]\n",
    "c = [11, 12, 13, 14, 15]\n",
    "\n",
    "list(map(lambda x,y,z:x+y+z, a, b, c))\n",
    "\n"
   ]
  },
  {
   "cell_type": "code",
   "execution_count": null,
   "metadata": {},
   "outputs": [],
   "source": []
  }
 ],
 "metadata": {
  "kernelspec": {
   "display_name": "Python 3.10.2 64-bit",
   "language": "python",
   "name": "python3"
  },
  "language_info": {
   "codemirror_mode": {
    "name": "ipython",
    "version": 3
   },
   "file_extension": ".py",
   "mimetype": "text/x-python",
   "name": "python",
   "nbconvert_exporter": "python",
   "pygments_lexer": "ipython3",
   "version": "3.10.2"
  },
  "orig_nbformat": 4,
  "vscode": {
   "interpreter": {
    "hash": "369f2c481f4da34e4445cda3fffd2e751bd1c4d706f27375911949ba6bb62e1c"
   }
  }
 },
 "nbformat": 4,
 "nbformat_minor": 2
}
