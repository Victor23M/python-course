{
 "cells": [
  {
   "cell_type": "code",
   "execution_count": 3,
   "id": "e761be1b",
   "metadata": {},
   "outputs": [
    {
     "name": "stdout",
     "output_type": "stream",
     "text": [
      "Luiz <class 'str'>\n",
      "10 <class 'int'>\n",
      "25.23 <class 'float'>\n",
      "True <class 'bool'>\n",
      "10 10\n",
      "Luiz True\n",
      "10 True\n",
      "20\n",
      "1010\n"
     ]
    }
   ],
   "source": [
    "# Tipos de dados\n",
    "\n",
    "# str = string (cadeia de caractéres)\n",
    "# int = inteiro (números negativos, positivos ou nulos, sem casas decimais após o ponto)\n",
    "# float = real/ponto flutuante (números negativos, positivos ou nulo, com casa decimais após o ponto)\n",
    "# bool = booleano/lógico (verdadeiro ou falso)\n",
    "\n",
    "print ('Luiz', type('Luiz'))\n",
    "print (10, type(10))\n",
    "print (25.23, type(25.23))\n",
    "print (10==10, type(10==10))\n",
    "\n",
    "# Type Casting = Troca de Tipos \n",
    "\n",
    "print ('10', int('10'))\n",
    "print ('Luiz', bool('Luiz'))\n",
    "print (10, bool(10))\n",
    "# print ('Luiz', int('Luiz'))  impossível!!!\n",
    "\n",
    "# Somas e Concanetações\n",
    "\n",
    "print (10 + 10)\n",
    "print ('10' + '10')\n",
    "# print ('10' + 10)  impossível!!!"
   ]
  },
  {
   "cell_type": "code",
   "execution_count": 4,
   "id": "c76d41fb",
   "metadata": {},
   "outputs": [
    {
     "name": "stdout",
     "output_type": "stream",
     "text": [
      "João Victor <class 'str'>\n",
      "23 <class 'int'>\n",
      "1.81 <class 'float'>\n",
      "True <class 'bool'>\n"
     ]
    }
   ],
   "source": [
    "# Exercício da Aula\n",
    "\n",
    "print ('João Victor', type('João Victor'))\n",
    "print (23, type(23))\n",
    "print (1.81, type(1.81))\n",
    "print (23>18, type(23>18))\n"
   ]
  },
  {
   "cell_type": "code",
   "execution_count": null,
   "id": "af2159f0",
   "metadata": {},
   "outputs": [],
   "source": []
  }
 ],
 "metadata": {
  "kernelspec": {
   "display_name": "Python 3",
   "language": "python",
   "name": "python3"
  },
  "language_info": {
   "codemirror_mode": {
    "name": "ipython",
    "version": 3
   },
   "file_extension": ".py",
   "mimetype": "text/x-python",
   "name": "python",
   "nbconvert_exporter": "python",
   "pygments_lexer": "ipython3",
   "version": "3.8.8"
  }
 },
 "nbformat": 4,
 "nbformat_minor": 5
}
